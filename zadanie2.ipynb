{
 "cells": [
  {
   "cell_type": "code",
   "id": "initial_id",
   "metadata": {
    "collapsed": true,
    "ExecuteTime": {
     "end_time": "2024-11-06T15:41:14.016212Z",
     "start_time": "2024-11-06T15:41:12.106161Z"
    }
   },
   "source": [
    "import numpy as np\n",
    "import pandas as pd\n",
    "import matplotlib.pyplot as plt\n",
    "from PIL import Image\n",
    "import cv2"
   ],
   "outputs": [],
   "execution_count": 2
  },
  {
   "metadata": {
    "ExecuteTime": {
     "end_time": "2024-11-06T15:41:14.053119Z",
     "start_time": "2024-11-06T15:41:14.020930Z"
    }
   },
   "cell_type": "code",
   "source": [
    "def load_image(img_path):\n",
    "    image = Image.open(img_path)\n",
    "    return image"
   ],
   "id": "1295b9e1f6755e39",
   "outputs": [],
   "execution_count": 3
  },
  {
   "metadata": {
    "ExecuteTime": {
     "end_time": "2024-11-06T15:41:14.110004Z",
     "start_time": "2024-11-06T15:41:14.057184Z"
    }
   },
   "cell_type": "code",
   "source": [
    "image = load_image('High-Resolution.png')\n",
    "image = image.convert('L')"
   ],
   "id": "b568700a25d98c15",
   "outputs": [],
   "execution_count": 4
  },
  {
   "metadata": {
    "ExecuteTime": {
     "end_time": "2024-11-06T15:41:28.598493Z",
     "start_time": "2024-11-06T15:41:28.527519Z"
    }
   },
   "cell_type": "code",
   "source": "image.show()",
   "id": "db5ed06ed45179bc",
   "outputs": [],
   "execution_count": 38
  },
  {
   "metadata": {
    "ExecuteTime": {
     "end_time": "2024-11-06T15:41:14.218698Z",
     "start_time": "2024-11-06T15:41:14.213617Z"
    }
   },
   "cell_type": "code",
   "source": "img_array = np.array(image)",
   "id": "8d26139ea54352a6",
   "outputs": [],
   "execution_count": 6
  },
  {
   "metadata": {
    "ExecuteTime": {
     "end_time": "2024-11-06T15:41:14.235044Z",
     "start_time": "2024-11-06T15:41:14.220711Z"
    }
   },
   "cell_type": "code",
   "source": "img_array",
   "id": "a02b8368182cc5e2",
   "outputs": [
    {
     "data": {
      "text/plain": [
       "array([[116, 107, 116, ..., 116,  94,  89],\n",
       "       [116, 116, 116, ...,  98,  94,  94],\n",
       "       [132, 132, 116, ..., 117, 117, 104],\n",
       "       ...,\n",
       "       [ 24,  24,  46, ...,  68,  68,  57],\n",
       "       [ 24,  32,  32, ...,  68,  57,  57],\n",
       "       [ 24,  32,  32, ...,  57,  57,  55]], dtype=uint8)"
      ]
     },
     "execution_count": 7,
     "metadata": {},
     "output_type": "execute_result"
    }
   ],
   "execution_count": 7
  },
  {
   "metadata": {},
   "cell_type": "markdown",
   "source": "# Wyświetlanie histogramu wczytanego obrazu",
   "id": "dd7894df4e829fcc"
  },
  {
   "metadata": {
    "ExecuteTime": {
     "end_time": "2024-11-06T15:41:14.246230Z",
     "start_time": "2024-11-06T15:41:14.237059Z"
    }
   },
   "cell_type": "code",
   "source": "gray_hist_data = img_array.flatten()",
   "id": "40c19c13277611",
   "outputs": [],
   "execution_count": 8
  },
  {
   "metadata": {
    "ExecuteTime": {
     "end_time": "2024-11-06T15:41:14.825910Z",
     "start_time": "2024-11-06T15:41:14.248243Z"
    }
   },
   "cell_type": "code",
   "source": "plt.hist(gray_hist_data, bins = 255, range=(0, 255))",
   "id": "7c94b9e895b638d7",
   "outputs": [
    {
     "data": {
      "text/plain": [
       "(array([   0.,    0.,    0.,    0.,    0.,    0.,    0.,    0.,    0.,\n",
       "           0.,    0.,    0.,    0.,    0.,    0.,    0.,    0.,    0.,\n",
       "           0.,    0.,    0.,    0.,    0.,    0., 2412.,    0.,    0.,\n",
       "           0.,    0.,    0.,    0.,    0., 3959.,    0.,    0.,    0.,\n",
       "           0., 1914.,    0., 3377.,    0.,    0.,    0., 1051.,    0.,\n",
       "           0., 6051.,  751.,    0.,    0.,    0., 1172., 1278.,    0.,\n",
       "           0., 4018.,    0., 3234., 1852.,    0.,    0., 2575., 1400.,\n",
       "           0.,    0., 2004., 4050.,    0., 1964., 6254.,    0.,    0.,\n",
       "        2513.,    0., 2472., 2051.,    0., 2612., 4921., 1044., 1806.,\n",
       "         786., 1391., 3434., 2409., 2179.,    0.,    0., 6542., 1955.,\n",
       "         841.,    0., 1067.,  843., 4762., 1321.,  721., 4066., 3914.,\n",
       "           0.,    0., 2750., 1672.,  965., 3228., 4105.,    0., 2725.,\n",
       "        2453.,    0., 2089., 1100., 2012., 1089., 2570., 1419., 1154.,\n",
       "        4425.,    0., 1921., 1581., 2325.,  713.,    0.,    0., 6404.,\n",
       "           0., 2319., 1885.,    0., 2064.,  677., 1501., 2462.,    0.,\n",
       "        4933.,    0., 2110., 1179.,  950.,  820.,    0., 1111.,    0.,\n",
       "        3178., 2743., 1168.,    0.,  622., 1728.,  737.,  956.,  807.,\n",
       "        1578.,  668., 1482., 2760.,  847.,  345.,    0.,  458., 1887.,\n",
       "           0.,    0., 1271., 1395.,  791.,    0., 2718., 1161.,  833.,\n",
       "           0., 1074.,    0.,  695., 2195., 1040.,  983.,  817.,    0.,\n",
       "           0.,    0.,  421., 1925., 1004.,  670., 1786.,  639.,  734.,\n",
       "        1438.,  612.,    0., 2089.,  485.,    0., 1361., 2032.,  620.,\n",
       "           0.,    0.,  660., 1950.,  617.,    0., 1211., 2733.,    0.,\n",
       "           0., 1963., 1417.,  641.,  421., 2398.,    0.,    0., 1812.,\n",
       "        1456., 1314.,    0.,  790.,  942.,  830., 1379.,  987.,    0.,\n",
       "        1369.,  593., 3008.,    0.,    0.,  712., 1879.,  705., 2137.,\n",
       "           0.,    0.,    0., 2235.,    0.,  965.,  590.,    0.,    0.,\n",
       "           0.,    0.,    0.,    0.,    0.,    0.,    0.,    0.,    0.,\n",
       "           0.,    0.,    0.]),\n",
       " array([  0.,   1.,   2.,   3.,   4.,   5.,   6.,   7.,   8.,   9.,  10.,\n",
       "         11.,  12.,  13.,  14.,  15.,  16.,  17.,  18.,  19.,  20.,  21.,\n",
       "         22.,  23.,  24.,  25.,  26.,  27.,  28.,  29.,  30.,  31.,  32.,\n",
       "         33.,  34.,  35.,  36.,  37.,  38.,  39.,  40.,  41.,  42.,  43.,\n",
       "         44.,  45.,  46.,  47.,  48.,  49.,  50.,  51.,  52.,  53.,  54.,\n",
       "         55.,  56.,  57.,  58.,  59.,  60.,  61.,  62.,  63.,  64.,  65.,\n",
       "         66.,  67.,  68.,  69.,  70.,  71.,  72.,  73.,  74.,  75.,  76.,\n",
       "         77.,  78.,  79.,  80.,  81.,  82.,  83.,  84.,  85.,  86.,  87.,\n",
       "         88.,  89.,  90.,  91.,  92.,  93.,  94.,  95.,  96.,  97.,  98.,\n",
       "         99., 100., 101., 102., 103., 104., 105., 106., 107., 108., 109.,\n",
       "        110., 111., 112., 113., 114., 115., 116., 117., 118., 119., 120.,\n",
       "        121., 122., 123., 124., 125., 126., 127., 128., 129., 130., 131.,\n",
       "        132., 133., 134., 135., 136., 137., 138., 139., 140., 141., 142.,\n",
       "        143., 144., 145., 146., 147., 148., 149., 150., 151., 152., 153.,\n",
       "        154., 155., 156., 157., 158., 159., 160., 161., 162., 163., 164.,\n",
       "        165., 166., 167., 168., 169., 170., 171., 172., 173., 174., 175.,\n",
       "        176., 177., 178., 179., 180., 181., 182., 183., 184., 185., 186.,\n",
       "        187., 188., 189., 190., 191., 192., 193., 194., 195., 196., 197.,\n",
       "        198., 199., 200., 201., 202., 203., 204., 205., 206., 207., 208.,\n",
       "        209., 210., 211., 212., 213., 214., 215., 216., 217., 218., 219.,\n",
       "        220., 221., 222., 223., 224., 225., 226., 227., 228., 229., 230.,\n",
       "        231., 232., 233., 234., 235., 236., 237., 238., 239., 240., 241.,\n",
       "        242., 243., 244., 245., 246., 247., 248., 249., 250., 251., 252.,\n",
       "        253., 254., 255.]),\n",
       " <BarContainer object of 255 artists>)"
      ]
     },
     "execution_count": 9,
     "metadata": {},
     "output_type": "execute_result"
    },
    {
     "data": {
      "text/plain": [
       "<Figure size 640x480 with 1 Axes>"
      ],
      "image/png": "[encoded data removed]"
     },
     "metadata": {},
     "output_type": "display_data"
    }
   ],
   "execution_count": 9
  },
  {
   "metadata": {},
   "cell_type": "markdown",
   "source": "# Rozciąganie histogramu",
   "id": "806cb87b3d84ab34"
  },
  {
   "metadata": {},
   "cell_type": "markdown",
   "source": "## LUT TABLE",
   "id": "70826ee7c5581595"
  },
  {
   "metadata": {
    "ExecuteTime": {
     "end_time": "2024-11-06T15:41:14.879917Z",
     "start_time": "2024-11-06T15:41:14.826919Z"
    }
   },
   "cell_type": "code",
   "source": [
    "lut_table = np.zeros(256)\n",
    "max_value = max(gray_hist_data)\n",
    "min_value = min(gray_hist_data)\n",
    "for i in range(0, len(lut_table)):\n",
    "    if i >= max_value:\n",
    "        lut_table[i] = 255\n",
    "        \n",
    "    elif i <= min_value:\n",
    "        lut_table[i] = 0\n",
    "        \n",
    "    else:\n",
    "        lut_table[i] = int((i - min_value)/(max_value - min_value) * 255)"
   ],
   "id": "8e10780638f58f29",
   "outputs": [],
   "execution_count": 10
  },
  {
   "metadata": {
    "ExecuteTime": {
     "end_time": "2024-11-06T15:41:14.939341Z",
     "start_time": "2024-11-06T15:41:14.883928Z"
    }
   },
   "cell_type": "code",
   "source": "lut_table",
   "id": "bc6e1d962e65e520",
   "outputs": [
    {
     "data": {
      "text/plain": [
       "array([  0.,   0.,   0.,   0.,   0.,   0.,   0.,   0.,   0.,   0.,   0.,\n",
       "         0.,   0.,   0.,   0.,   0.,   0.,   0.,   0.,   0.,   0.,   0.,\n",
       "         0.,   0.,   0.,   1.,   2.,   3.,   4.,   5.,   7.,   8.,   9.,\n",
       "        10.,  11.,  12.,  14.,  15.,  16.,  17.,  18.,  20.,  21.,  22.,\n",
       "        23.,  24.,  25.,  27.,  28.,  29.,  30.,  31.,  33.,  34.,  35.,\n",
       "        36.,  37.,  38.,  40.,  41.,  42.,  43.,  44.,  46.,  47.,  48.,\n",
       "        49.,  50.,  51.,  53.,  54.,  55.,  56.,  57.,  59.,  60.,  61.,\n",
       "        62.,  63.,  64.,  66.,  67.,  68.,  69.,  70.,  72.,  73.,  74.,\n",
       "        75.,  76.,  77.,  79.,  80.,  81.,  82.,  83.,  85.,  86.,  87.,\n",
       "        88.,  89.,  90.,  92.,  93.,  94.,  95.,  96.,  97.,  99., 100.,\n",
       "       101., 102., 103., 105., 106., 107., 108., 109., 110., 112., 113.,\n",
       "       114., 115., 116., 118., 119., 120., 121., 122., 123., 125., 126.,\n",
       "       127., 128., 129., 131., 132., 133., 134., 135., 136., 138., 139.,\n",
       "       140., 141., 142., 144., 145., 146., 147., 148., 149., 151., 152.,\n",
       "       153., 154., 155., 157., 158., 159., 160., 161., 162., 164., 165.,\n",
       "       166., 167., 168., 170., 171., 172., 173., 174., 175., 177., 178.,\n",
       "       179., 180., 181., 182., 184., 185., 186., 187., 188., 190., 191.,\n",
       "       192., 193., 194., 195., 197., 198., 199., 200., 201., 203., 204.,\n",
       "       205., 206., 207., 208., 210., 211., 212., 213., 214., 216., 217.,\n",
       "       218., 219., 220., 221., 223., 224., 225., 226., 227., 229., 230.,\n",
       "       231., 232., 233., 234., 236., 237., 238., 239., 240., 242., 243.,\n",
       "       244., 245., 246., 247., 249., 250., 251., 252., 253., 255., 255.,\n",
       "       255., 255., 255., 255., 255., 255., 255., 255., 255., 255., 255.,\n",
       "       255., 255., 255.])"
      ]
     },
     "execution_count": 11,
     "metadata": {},
     "output_type": "execute_result"
    }
   ],
   "execution_count": 11
  },
  {
   "metadata": {
    "ExecuteTime": {
     "end_time": "2024-11-06T15:41:14.977282Z",
     "start_time": "2024-11-06T15:41:14.940354Z"
    }
   },
   "cell_type": "code",
   "source": "extend_hist_data = lut_table[img_array]",
   "id": "71e7557067c96aed",
   "outputs": [],
   "execution_count": 12
  },
  {
   "metadata": {
    "ExecuteTime": {
     "end_time": "2024-11-06T15:41:15.000566Z",
     "start_time": "2024-11-06T15:41:14.982282Z"
    }
   },
   "cell_type": "code",
   "source": "extend_hist_data",
   "id": "892c41b7a96eae1f",
   "outputs": [
    {
     "data": {
      "text/plain": [
       "array([[108.,  97., 108., ..., 108.,  82.,  76.],\n",
       "       [108., 108., 108., ...,  87.,  82.,  82.],\n",
       "       [127., 127., 108., ..., 109., 109.,  94.],\n",
       "       ...,\n",
       "       [  0.,   0.,  25., ...,  51.,  51.,  38.],\n",
       "       [  0.,   9.,   9., ...,  51.,  38.,  38.],\n",
       "       [  0.,   9.,   9., ...,  38.,  38.,  36.]])"
      ]
     },
     "execution_count": 13,
     "metadata": {},
     "output_type": "execute_result"
    }
   ],
   "execution_count": 13
  },
  {
   "metadata": {
    "ExecuteTime": {
     "end_time": "2024-11-06T15:41:15.014815Z",
     "start_time": "2024-11-06T15:41:15.003575Z"
    }
   },
   "cell_type": "code",
   "source": "extend_hist_data_flatten = extend_hist_data.flatten()",
   "id": "24705e570cf85a12",
   "outputs": [],
   "execution_count": 14
  },
  {
   "metadata": {
    "ExecuteTime": {
     "end_time": "2024-11-06T15:41:15.639216Z",
     "start_time": "2024-11-06T15:41:15.017824Z"
    }
   },
   "cell_type": "code",
   "source": "plt.hist(extend_hist_data_flatten, bins = 255, range = (0,255))",
   "id": "231e524eaac246ef",
   "outputs": [
    {
     "data": {
      "text/plain": [
       "(array([2412.,    0.,    0.,    0.,    0.,    0.,    0.,    0.,    0.,\n",
       "        3959.,    0.,    0.,    0.,    0.,    0., 1914.,    0., 3377.,\n",
       "           0.,    0.,    0.,    0., 1051.,    0.,    0., 6051.,    0.,\n",
       "         751.,    0.,    0.,    0., 1172.,    0., 1278.,    0.,    0.,\n",
       "        4018.,    0., 3234.,    0., 1852.,    0.,    0., 2575., 1400.,\n",
       "           0.,    0.,    0., 2004., 4050.,    0., 1964.,    0., 6254.,\n",
       "           0.,    0., 2513.,    0.,    0., 2472., 2051.,    0., 2612.,\n",
       "        4921., 1044.,    0., 1806.,  786., 1391., 3434., 2409.,    0.,\n",
       "        2179.,    0.,    0., 6542., 1955.,  841.,    0.,    0., 1067.,\n",
       "         843., 4762., 1321.,    0.,  721., 4066., 3914.,    0.,    0.,\n",
       "        2750.,    0., 1672.,  965., 3228., 4105.,    0., 2725.,    0.,\n",
       "        2453.,    0., 2089., 1100., 2012.,    0., 1089., 2570., 1419.,\n",
       "        1154., 4425.,    0.,    0., 1921., 1581., 2325.,  713.,    0.,\n",
       "           0.,    0., 6404.,    0., 2319., 1885.,    0.,    0., 2064.,\n",
       "         677., 1501., 2462.,    0.,    0., 4933.,    0., 2110., 1179.,\n",
       "         950.,  820.,    0.,    0., 1111.,    0., 3178., 2743.,    0.,\n",
       "        1168.,    0.,  622., 1728.,  737.,  956.,    0.,  807., 1578.,\n",
       "         668., 1482., 2760.,    0.,  847.,  345.,    0.,  458., 1887.,\n",
       "           0.,    0.,    0., 1271., 1395.,  791.,    0.,    0., 2718.,\n",
       "        1161.,  833.,    0., 1074.,    0.,    0.,  695., 2195., 1040.,\n",
       "         983.,  817.,    0.,    0.,    0.,    0.,  421., 1925., 1004.,\n",
       "           0.,  670., 1786.,  639.,  734., 1438.,  612.,    0.,    0.,\n",
       "        2089.,  485.,    0., 1361.,    0., 2032.,  620.,    0.,    0.,\n",
       "         660., 1950.,    0.,  617.,    0., 1211., 2733.,    0.,    0.,\n",
       "           0., 1963., 1417.,  641.,  421., 2398.,    0.,    0.,    0.,\n",
       "        1812., 1456., 1314.,    0.,    0.,  790.,  942.,  830., 1379.,\n",
       "         987.,    0.,    0., 1369.,  593., 3008.,    0.,    0.,    0.,\n",
       "         712., 1879.,  705., 2137.,    0.,    0.,    0.,    0., 2235.,\n",
       "           0.,  965.,  590.]),\n",
       " array([  0.,   1.,   2.,   3.,   4.,   5.,   6.,   7.,   8.,   9.,  10.,\n",
       "         11.,  12.,  13.,  14.,  15.,  16.,  17.,  18.,  19.,  20.,  21.,\n",
       "         22.,  23.,  24.,  25.,  26.,  27.,  28.,  29.,  30.,  31.,  32.,\n",
       "         33.,  34.,  35.,  36.,  37.,  38.,  39.,  40.,  41.,  42.,  43.,\n",
       "         44.,  45.,  46.,  47.,  48.,  49.,  50.,  51.,  52.,  53.,  54.,\n",
       "         55.,  56.,  57.,  58.,  59.,  60.,  61.,  62.,  63.,  64.,  65.,\n",
       "         66.,  67.,  68.,  69.,  70.,  71.,  72.,  73.,  74.,  75.,  76.,\n",
       "         77.,  78.,  79.,  80.,  81.,  82.,  83.,  84.,  85.,  86.,  87.,\n",
       "         88.,  89.,  90.,  91.,  92.,  93.,  94.,  95.,  96.,  97.,  98.,\n",
       "         99., 100., 101., 102., 103., 104., 105., 106., 107., 108., 109.,\n",
       "        110., 111., 112., 113., 114., 115., 116., 117., 118., 119., 120.,\n",
       "        121., 122., 123., 124., 125., 126., 127., 128., 129., 130., 131.,\n",
       "        132., 133., 134., 135., 136., 137., 138., 139., 140., 141., 142.,\n",
       "        143., 144., 145., 146., 147., 148., 149., 150., 151., 152., 153.,\n",
       "        154., 155., 156., 157., 158., 159., 160., 161., 162., 163., 164.,\n",
       "        165., 166., 167., 168., 169., 170., 171., 172., 173., 174., 175.,\n",
       "        176., 177., 178., 179., 180., 181., 182., 183., 184., 185., 186.,\n",
       "        187., 188., 189., 190., 191., 192., 193., 194., 195., 196., 197.,\n",
       "        198., 199., 200., 201., 202., 203., 204., 205., 206., 207., 208.,\n",
       "        209., 210., 211., 212., 213., 214., 215., 216., 217., 218., 219.,\n",
       "        220., 221., 222., 223., 224., 225., 226., 227., 228., 229., 230.,\n",
       "        231., 232., 233., 234., 235., 236., 237., 238., 239., 240., 241.,\n",
       "        242., 243., 244., 245., 246., 247., 248., 249., 250., 251., 252.,\n",
       "        253., 254., 255.]),\n",
       " <BarContainer object of 255 artists>)"
      ]
     },
     "execution_count": 15,
     "metadata": {},
     "output_type": "execute_result"
    },
    {
     "data": {
      "text/plain": [
       "<Figure size 640x480 with 1 Axes>"
      ],
      "image/png": "[encoded data removed]"
     },
     "metadata": {},
     "output_type": "display_data"
    }
   ],
   "execution_count": 15
  },
  {
   "metadata": {
    "ExecuteTime": {
     "end_time": "2024-11-06T15:41:15.651162Z",
     "start_time": "2024-11-06T15:41:15.641228Z"
    }
   },
   "cell_type": "code",
   "source": "extend_image = Image.fromarray(extend_hist_data)",
   "id": "c33fb169ea135866",
   "outputs": [],
   "execution_count": 16
  },
  {
   "metadata": {
    "ExecuteTime": {
     "end_time": "2024-11-06T15:41:15.744086Z",
     "start_time": "2024-11-06T15:41:15.653176Z"
    }
   },
   "cell_type": "code",
   "source": "extend_image.show()",
   "id": "49a59ededa3758b8",
   "outputs": [],
   "execution_count": 17
  },
  {
   "metadata": {},
   "cell_type": "markdown",
   "source": "# Wyrównanie histogramu",
   "id": "eb20270f53c85f97"
  },
  {
   "metadata": {},
   "cell_type": "markdown",
   "source": "## histogram rozkładu",
   "id": "a1277e96e0296290"
  },
  {
   "metadata": {
    "ExecuteTime": {
     "end_time": "2024-11-06T15:41:15.759190Z",
     "start_time": "2024-11-06T15:41:15.746097Z"
    }
   },
   "cell_type": "code",
   "source": "hist_data, bin_edges = np.histogram(gray_hist_data, bins = 256, range=(0, 256))",
   "id": "f13ef6bd04660b0",
   "outputs": [],
   "execution_count": 18
  },
  {
   "metadata": {
    "ExecuteTime": {
     "end_time": "2024-11-06T15:41:15.767318Z",
     "start_time": "2024-11-06T15:41:15.761201Z"
    }
   },
   "cell_type": "code",
   "source": "distribution = np.cumsum(hist_data) / len(gray_hist_data)",
   "id": "a03b9e7a619d9d48",
   "outputs": [],
   "execution_count": 19
  },
  {
   "metadata": {
    "ExecuteTime": {
     "end_time": "2024-11-06T15:41:15.788249Z",
     "start_time": "2024-11-06T15:41:15.769331Z"
    }
   },
   "cell_type": "code",
   "source": "distribution",
   "id": "7a044bf3eb06720d",
   "outputs": [
    {
     "data": {
      "text/plain": [
       "array([0.        , 0.        , 0.        , 0.        , 0.        ,\n",
       "       0.        , 0.        , 0.        , 0.        , 0.        ,\n",
       "       0.        , 0.        , 0.        , 0.        , 0.        ,\n",
       "       0.        , 0.        , 0.        , 0.        , 0.        ,\n",
       "       0.        , 0.        , 0.        , 0.        , 0.00920105,\n",
       "       0.00920105, 0.00920105, 0.00920105, 0.00920105, 0.00920105,\n",
       "       0.00920105, 0.00920105, 0.02430344, 0.02430344, 0.02430344,\n",
       "       0.02430344, 0.02430344, 0.03160477, 0.03160477, 0.044487  ,\n",
       "       0.044487  , 0.044487  , 0.044487  , 0.04849625, 0.04849625,\n",
       "       0.04849625, 0.07157898, 0.07444382, 0.07444382, 0.07444382,\n",
       "       0.07444382, 0.07891464, 0.08378983, 0.08378983, 0.08378983,\n",
       "       0.09911728, 0.09911728, 0.11145401, 0.11851883, 0.11851883,\n",
       "       0.11851883, 0.12834167, 0.13368225, 0.13368225, 0.13368225,\n",
       "       0.1413269 , 0.15677643, 0.15677643, 0.16426849, 0.18812561,\n",
       "       0.18812561, 0.18812561, 0.19771194, 0.19771194, 0.20714188,\n",
       "       0.21496582, 0.21496582, 0.22492981, 0.24370193, 0.24768448,\n",
       "       0.25457382, 0.25757217, 0.26287842, 0.27597809, 0.28516769,\n",
       "       0.29347992, 0.29347992, 0.29347992, 0.31843567, 0.3258934 ,\n",
       "       0.32910156, 0.32910156, 0.33317184, 0.33638763, 0.35455322,\n",
       "       0.35959244, 0.36234283, 0.37785339, 0.39278412, 0.39278412,\n",
       "       0.39278412, 0.40327454, 0.40965271, 0.41333389, 0.42564774,\n",
       "       0.44130707, 0.44130707, 0.45170212, 0.46105957, 0.46105957,\n",
       "       0.46902847, 0.47322464, 0.48089981, 0.48505402, 0.49485779,\n",
       "       0.50027084, 0.504673  , 0.52155304, 0.52155304, 0.52888107,\n",
       "       0.53491211, 0.54378128, 0.54650116, 0.54650116, 0.54650116,\n",
       "       0.57093048, 0.57093048, 0.57977676, 0.58696747, 0.58696747,\n",
       "       0.594841  , 0.59742355, 0.60314941, 0.6125412 , 0.6125412 ,\n",
       "       0.6313591 , 0.6313591 , 0.63940811, 0.64390564, 0.6475296 ,\n",
       "       0.65065765, 0.65065765, 0.65489578, 0.65489578, 0.66701889,\n",
       "       0.6774826 , 0.68193817, 0.68193817, 0.68431091, 0.69090271,\n",
       "       0.69371414, 0.69736099, 0.70043945, 0.70645905, 0.70900726,\n",
       "       0.71466064, 0.72518921, 0.72842026, 0.72973633, 0.72973633,\n",
       "       0.73148346, 0.73868179, 0.73868179, 0.73868179, 0.74353027,\n",
       "       0.74885178, 0.7518692 , 0.7518692 , 0.76223755, 0.76666641,\n",
       "       0.76984406, 0.76984406, 0.77394104, 0.77394104, 0.77659225,\n",
       "       0.78496552, 0.7889328 , 0.79268265, 0.79579926, 0.79579926,\n",
       "       0.79579926, 0.79579926, 0.79740524, 0.80474854, 0.80857849,\n",
       "       0.81113434, 0.81794739, 0.82038498, 0.82318497, 0.8286705 ,\n",
       "       0.8310051 , 0.8310051 , 0.838974  , 0.84082413, 0.84082413,\n",
       "       0.84601593, 0.8537674 , 0.85613251, 0.85613251, 0.85613251,\n",
       "       0.85865021, 0.86608887, 0.86844254, 0.86844254, 0.87306213,\n",
       "       0.8834877 , 0.8834877 , 0.8834877 , 0.89097595, 0.89638138,\n",
       "       0.8988266 , 0.90043259, 0.90958023, 0.90958023, 0.90958023,\n",
       "       0.91649246, 0.92204666, 0.92705917, 0.92705917, 0.93007278,\n",
       "       0.93366623, 0.93683243, 0.9420929 , 0.945858  , 0.945858  ,\n",
       "       0.95108032, 0.95334244, 0.96481705, 0.96481705, 0.96481705,\n",
       "       0.96753311, 0.97470093, 0.97739029, 0.9855423 , 0.9855423 ,\n",
       "       0.9855423 , 0.9855423 , 0.99406815, 0.99406815, 0.99774933,\n",
       "       1.        , 1.        , 1.        , 1.        , 1.        ,\n",
       "       1.        , 1.        , 1.        , 1.        , 1.        ,\n",
       "       1.        , 1.        , 1.        , 1.        , 1.        ,\n",
       "       1.        ])"
      ]
     },
     "execution_count": 20,
     "metadata": {},
     "output_type": "execute_result"
    }
   ],
   "execution_count": 20
  },
  {
   "metadata": {
    "ExecuteTime": {
     "end_time": "2024-11-06T15:41:15.807284Z",
     "start_time": "2024-11-06T15:41:15.797264Z"
    }
   },
   "cell_type": "code",
   "source": [
    "d_zero = None\n",
    "for i in range(len(distribution)):\n",
    "    if distribution[i]!=0:\n",
    "        d_zero = distribution[i]\n",
    "        break\n",
    "        "
   ],
   "id": "b2dd6423d47d2f89",
   "outputs": [],
   "execution_count": 21
  },
  {
   "metadata": {
    "ExecuteTime": {
     "end_time": "2024-11-06T15:41:15.834295Z",
     "start_time": "2024-11-06T15:41:15.811336Z"
    }
   },
   "cell_type": "code",
   "source": "d_zero",
   "id": "bb8dca2c306e5675",
   "outputs": [
    {
     "data": {
      "text/plain": [
       "np.float64(0.0092010498046875)"
      ]
     },
     "execution_count": 22,
     "metadata": {},
     "output_type": "execute_result"
    }
   ],
   "execution_count": 22
  },
  {
   "metadata": {
    "ExecuteTime": {
     "end_time": "2024-11-06T15:41:15.845623Z",
     "start_time": "2024-11-06T15:41:15.836309Z"
    }
   },
   "cell_type": "code",
   "source": "lut_table_equalization = np.zeros(256)",
   "id": "53caf028fd85fda3",
   "outputs": [],
   "execution_count": 23
  },
  {
   "metadata": {
    "ExecuteTime": {
     "end_time": "2024-11-06T15:41:15.855768Z",
     "start_time": "2024-11-06T15:41:15.847633Z"
    }
   },
   "cell_type": "code",
   "source": [
    "for i in range(255):\n",
    "    if distribution[i] < d_zero:\n",
    "        lut_table_equalization[i] = 0\n",
    "    else:\n",
    "        lut_table_equalization[i] = int((distribution[i] - d_zero)/ (1-d_zero) * (len(hist_data) - 1))"
   ],
   "id": "d81250e9fda22803",
   "outputs": [],
   "execution_count": 24
  },
  {
   "metadata": {
    "ExecuteTime": {
     "end_time": "2024-11-06T15:41:15.874372Z",
     "start_time": "2024-11-06T15:41:15.857782Z"
    }
   },
   "cell_type": "code",
   "source": "lut_table_equalization",
   "id": "4c81ed2801bb9241",
   "outputs": [
    {
     "data": {
      "text/plain": [
       "array([  0.,   0.,   0.,   0.,   0.,   0.,   0.,   0.,   0.,   0.,   0.,\n",
       "         0.,   0.,   0.,   0.,   0.,   0.,   0.,   0.,   0.,   0.,   0.,\n",
       "         0.,   0.,   0.,   0.,   0.,   0.,   0.,   0.,   0.,   0.,   3.,\n",
       "         3.,   3.,   3.,   3.,   5.,   5.,   9.,   9.,   9.,   9.,  10.,\n",
       "        10.,  10.,  16.,  16.,  16.,  16.,  16.,  17.,  19.,  19.,  19.,\n",
       "        23.,  23.,  26.,  28.,  28.,  28.,  30.,  32.,  32.,  32.,  34.,\n",
       "        37.,  37.,  39.,  46.,  46.,  46.,  48.,  48.,  50.,  52.,  52.,\n",
       "        55.,  60.,  61.,  63.,  63.,  65.,  68.,  71.,  73.,  73.,  73.,\n",
       "        79.,  81.,  82.,  82.,  83.,  84.,  88.,  90.,  90.,  94.,  98.,\n",
       "        98.,  98., 101., 103., 104., 107., 111., 111., 113., 116., 116.,\n",
       "       118., 119., 121., 122., 124., 126., 127., 131., 131., 133., 135.,\n",
       "       137., 138., 138., 138., 144., 144., 146., 148., 148., 150., 151.,\n",
       "       152., 155., 155., 160., 160., 162., 163., 164., 165., 165., 166.,\n",
       "       166., 169., 171., 173., 173., 173., 175., 176., 177., 177., 179.,\n",
       "       180., 181., 184., 185., 185., 185., 185., 187., 187., 187., 188.,\n",
       "       190., 191., 191., 193., 194., 195., 195., 196., 196., 197., 199.,\n",
       "       200., 201., 202., 202., 202., 202., 202., 204., 205., 206., 208.,\n",
       "       208., 209., 210., 211., 211., 213., 214., 214., 215., 217., 217.,\n",
       "       217., 217., 218., 220., 221., 221., 222., 225., 225., 225., 226.,\n",
       "       228., 228., 229., 231., 231., 231., 233., 234., 236., 236., 237.,\n",
       "       237., 238., 240., 241., 241., 242., 242., 245., 245., 245., 246.,\n",
       "       248., 249., 251., 251., 251., 251., 253., 253., 254., 255., 255.,\n",
       "       255., 255., 255., 255., 255., 255., 255., 255., 255., 255., 255.,\n",
       "       255., 255.,   0.])"
      ]
     },
     "execution_count": 25,
     "metadata": {},
     "output_type": "execute_result"
    }
   ],
   "execution_count": 25
  },
  {
   "metadata": {
    "ExecuteTime": {
     "end_time": "2024-11-06T15:41:15.885998Z",
     "start_time": "2024-11-06T15:41:15.877385Z"
    }
   },
   "cell_type": "code",
   "source": "equal_hist_data = lut_table_equalization[img_array]",
   "id": "e0c446db092813a4",
   "outputs": [],
   "execution_count": 26
  },
  {
   "metadata": {
    "ExecuteTime": {
     "end_time": "2024-11-06T15:41:15.898534Z",
     "start_time": "2024-11-06T15:41:15.890012Z"
    }
   },
   "cell_type": "code",
   "source": "equal_hist_data",
   "id": "6b1e49abcc843401",
   "outputs": [
    {
     "data": {
      "text/plain": [
       "array([[127., 113., 127., ..., 127.,  88.,  81.],\n",
       "       [127., 127., 127., ...,  98.,  88.,  88.],\n",
       "       [152., 152., 127., ..., 131., 131., 107.],\n",
       "       ...,\n",
       "       [  0.,   0.,  16., ...,  39.,  39.,  26.],\n",
       "       [  0.,   3.,   3., ...,  39.,  26.,  26.],\n",
       "       [  0.,   3.,   3., ...,  26.,  26.,  23.]])"
      ]
     },
     "execution_count": 27,
     "metadata": {},
     "output_type": "execute_result"
    }
   ],
   "execution_count": 27
  },
  {
   "metadata": {
    "ExecuteTime": {
     "end_time": "2024-11-06T15:41:16.654392Z",
     "start_time": "2024-11-06T15:41:15.900570Z"
    }
   },
   "cell_type": "code",
   "source": "plt.hist(equal_hist_data.flatten(), bins = 255, range= (0,255))",
   "id": "a09c4f4ddc00a86c",
   "outputs": [
    {
     "data": {
      "text/plain": [
       "(array([2412.,    0.,    0., 3959.,    0., 1914.,    0.,    0.,    0.,\n",
       "        3377., 1051.,    0.,    0.,    0.,    0.,    0., 6802., 1172.,\n",
       "           0., 1278.,    0.,    0.,    0., 4018.,    0.,    0., 3234.,\n",
       "           0., 1852.,    0., 2575.,    0., 1400.,    0., 2004.,    0.,\n",
       "           0., 4050.,    0., 1964.,    0.,    0.,    0.,    0.,    0.,\n",
       "           0., 6254.,    0., 2513.,    0., 2472.,    0., 2051.,    0.,\n",
       "           0., 2612.,    0.,    0.,    0.,    0., 4921., 1044.,    0.,\n",
       "        2592.,    0., 1391.,    0.,    0., 3434.,    0.,    0., 2409.,\n",
       "           0., 2179.,    0.,    0.,    0.,    0.,    0., 6542.,    0.,\n",
       "        1955.,  841., 1067.,  843.,    0.,    0.,    0., 4762.,    0.,\n",
       "        2042.,    0.,    0.,    0., 4066.,    0.,    0.,    0., 3914.,\n",
       "           0.,    0., 2750.,    0., 1672.,  965.,    0.,    0., 3228.,\n",
       "           0.,    0.,    0., 4105.,    0., 2725.,    0.,    0., 2453.,\n",
       "           0., 2089., 1100.,    0., 2012., 1089.,    0., 2570.,    0.,\n",
       "        1419., 1154.,    0.,    0.,    0., 4425.,    0., 1921.,    0.,\n",
       "        1581.,    0., 2325.,  713.,    0.,    0.,    0.,    0.,    0.,\n",
       "        6404.,    0., 2319.,    0., 1885.,    0., 2064.,  677., 1501.,\n",
       "           0.,    0., 2462.,    0.,    0.,    0.,    0., 4933.,    0.,\n",
       "        2110., 1179.,  950.,  820., 1111.,    0.,    0., 3178.,    0.,\n",
       "        2743.,    0., 1790.,    0., 1728.,  737., 1763.,    0., 1578.,\n",
       "         668., 1482.,    0.,    0., 2760., 1650.,    0., 1887., 1271.,\n",
       "           0., 1395.,  791.,    0., 2718., 1161.,  833., 1074.,  695.,\n",
       "           0., 2195., 1040.,  983., 1238.,    0., 1925., 1004.,  670.,\n",
       "           0., 2425.,  734., 1438.,  612.,    0., 2089.,  485., 1361.,\n",
       "           0., 2652.,  660.,    0., 1950.,  617., 1211.,    0.,    0.,\n",
       "        2733., 1963.,    0., 2058.,  421.,    0., 2398.,    0., 1812.,\n",
       "        1456.,    0., 1314., 1732.,  830.,    0., 1379.,  987., 1962.,\n",
       "           0.,    0., 3008.,  712.,    0., 1879.,  705.,    0., 2137.,\n",
       "           0., 2235., 1555.]),\n",
       " array([  0.,   1.,   2.,   3.,   4.,   5.,   6.,   7.,   8.,   9.,  10.,\n",
       "         11.,  12.,  13.,  14.,  15.,  16.,  17.,  18.,  19.,  20.,  21.,\n",
       "         22.,  23.,  24.,  25.,  26.,  27.,  28.,  29.,  30.,  31.,  32.,\n",
       "         33.,  34.,  35.,  36.,  37.,  38.,  39.,  40.,  41.,  42.,  43.,\n",
       "         44.,  45.,  46.,  47.,  48.,  49.,  50.,  51.,  52.,  53.,  54.,\n",
       "         55.,  56.,  57.,  58.,  59.,  60.,  61.,  62.,  63.,  64.,  65.,\n",
       "         66.,  67.,  68.,  69.,  70.,  71.,  72.,  73.,  74.,  75.,  76.,\n",
       "         77.,  78.,  79.,  80.,  81.,  82.,  83.,  84.,  85.,  86.,  87.,\n",
       "         88.,  89.,  90.,  91.,  92.,  93.,  94.,  95.,  96.,  97.,  98.,\n",
       "         99., 100., 101., 102., 103., 104., 105., 106., 107., 108., 109.,\n",
       "        110., 111., 112., 113., 114., 115., 116., 117., 118., 119., 120.,\n",
       "        121., 122., 123., 124., 125., 126., 127., 128., 129., 130., 131.,\n",
       "        132., 133., 134., 135., 136., 137., 138., 139., 140., 141., 142.,\n",
       "        143., 144., 145., 146., 147., 148., 149., 150., 151., 152., 153.,\n",
       "        154., 155., 156., 157., 158., 159., 160., 161., 162., 163., 164.,\n",
       "        165., 166., 167., 168., 169., 170., 171., 172., 173., 174., 175.,\n",
       "        176., 177., 178., 179., 180., 181., 182., 183., 184., 185., 186.,\n",
       "        187., 188., 189., 190., 191., 192., 193., 194., 195., 196., 197.,\n",
       "        198., 199., 200., 201., 202., 203., 204., 205., 206., 207., 208.,\n",
       "        209., 210., 211., 212., 213., 214., 215., 216., 217., 218., 219.,\n",
       "        220., 221., 222., 223., 224., 225., 226., 227., 228., 229., 230.,\n",
       "        231., 232., 233., 234., 235., 236., 237., 238., 239., 240., 241.,\n",
       "        242., 243., 244., 245., 246., 247., 248., 249., 250., 251., 252.,\n",
       "        253., 254., 255.]),\n",
       " <BarContainer object of 255 artists>)"
      ]
     },
     "execution_count": 28,
     "metadata": {},
     "output_type": "execute_result"
    },
    {
     "data": {
      "text/plain": [
       "<Figure size 640x480 with 1 Axes>"
      ],
      "image/png": "[encoded data removed]"
     },
     "metadata": {},
     "output_type": "display_data"
    }
   ],
   "execution_count": 28
  },
  {
   "metadata": {
    "ExecuteTime": {
     "end_time": "2024-11-06T15:41:16.765349Z",
     "start_time": "2024-11-06T15:41:16.661410Z"
    }
   },
   "cell_type": "code",
   "source": [
    "equal_image = Image.fromarray(equal_hist_data)\n",
    "equal_image.show()"
   ],
   "id": "938866a529284b49",
   "outputs": [],
   "execution_count": 29
  },
  {
   "metadata": {},
   "cell_type": "markdown",
   "source": "# Binaryzacja Otsu",
   "id": "a09ed600587fca82"
  },
  {
   "metadata": {
    "ExecuteTime": {
     "end_time": "2024-11-06T15:41:16.784131Z",
     "start_time": "2024-11-06T15:41:16.768361Z"
    }
   },
   "cell_type": "code",
   "source": "t, otsu_array = cv2.threshold(img_array, 0, 255, cv2.THRESH_BINARY + cv2.THRESH_OTSU)",
   "id": "e371121fcd30c9e9",
   "outputs": [],
   "execution_count": 30
  },
  {
   "metadata": {
    "ExecuteTime": {
     "end_time": "2024-11-06T15:41:16.797686Z",
     "start_time": "2024-11-06T15:41:16.787146Z"
    }
   },
   "cell_type": "code",
   "source": "t",
   "id": "d2a4e6846addd40e",
   "outputs": [
    {
     "data": {
      "text/plain": [
       "138.0"
      ]
     },
     "execution_count": 31,
     "metadata": {},
     "output_type": "execute_result"
    }
   ],
   "execution_count": 31
  },
  {
   "metadata": {
    "ExecuteTime": {
     "end_time": "2024-11-06T15:41:17.801041Z",
     "start_time": "2024-11-06T15:41:16.800696Z"
    }
   },
   "cell_type": "code",
   "source": "plt.hist(otsu_array.flatten(), bins = 256, range=(0,256))",
   "id": "a8c6fe98b31c2251",
   "outputs": [
    {
     "data": {
      "text/plain": [
       "(array([168796.,      0.,      0.,      0.,      0.,      0.,      0.,\n",
       "             0.,      0.,      0.,      0.,      0.,      0.,      0.,\n",
       "             0.,      0.,      0.,      0.,      0.,      0.,      0.,\n",
       "             0.,      0.,      0.,      0.,      0.,      0.,      0.,\n",
       "             0.,      0.,      0.,      0.,      0.,      0.,      0.,\n",
       "             0.,      0.,      0.,      0.,      0.,      0.,      0.,\n",
       "             0.,      0.,      0.,      0.,      0.,      0.,      0.,\n",
       "             0.,      0.,      0.,      0.,      0.,      0.,      0.,\n",
       "             0.,      0.,      0.,      0.,      0.,      0.,      0.,\n",
       "             0.,      0.,      0.,      0.,      0.,      0.,      0.,\n",
       "             0.,      0.,      0.,      0.,      0.,      0.,      0.,\n",
       "             0.,      0.,      0.,      0.,      0.,      0.,      0.,\n",
       "             0.,      0.,      0.,      0.,      0.,      0.,      0.,\n",
       "             0.,      0.,      0.,      0.,      0.,      0.,      0.,\n",
       "             0.,      0.,      0.,      0.,      0.,      0.,      0.,\n",
       "             0.,      0.,      0.,      0.,      0.,      0.,      0.,\n",
       "             0.,      0.,      0.,      0.,      0.,      0.,      0.,\n",
       "             0.,      0.,      0.,      0.,      0.,      0.,      0.,\n",
       "             0.,      0.,      0.,      0.,      0.,      0.,      0.,\n",
       "             0.,      0.,      0.,      0.,      0.,      0.,      0.,\n",
       "             0.,      0.,      0.,      0.,      0.,      0.,      0.,\n",
       "             0.,      0.,      0.,      0.,      0.,      0.,      0.,\n",
       "             0.,      0.,      0.,      0.,      0.,      0.,      0.,\n",
       "             0.,      0.,      0.,      0.,      0.,      0.,      0.,\n",
       "             0.,      0.,      0.,      0.,      0.,      0.,      0.,\n",
       "             0.,      0.,      0.,      0.,      0.,      0.,      0.,\n",
       "             0.,      0.,      0.,      0.,      0.,      0.,      0.,\n",
       "             0.,      0.,      0.,      0.,      0.,      0.,      0.,\n",
       "             0.,      0.,      0.,      0.,      0.,      0.,      0.,\n",
       "             0.,      0.,      0.,      0.,      0.,      0.,      0.,\n",
       "             0.,      0.,      0.,      0.,      0.,      0.,      0.,\n",
       "             0.,      0.,      0.,      0.,      0.,      0.,      0.,\n",
       "             0.,      0.,      0.,      0.,      0.,      0.,      0.,\n",
       "             0.,      0.,      0.,      0.,      0.,      0.,      0.,\n",
       "             0.,      0.,      0.,      0.,      0.,      0.,      0.,\n",
       "             0.,      0.,      0.,      0.,      0.,      0.,      0.,\n",
       "             0.,      0.,      0.,  93348.]),\n",
       " array([  0.,   1.,   2.,   3.,   4.,   5.,   6.,   7.,   8.,   9.,  10.,\n",
       "         11.,  12.,  13.,  14.,  15.,  16.,  17.,  18.,  19.,  20.,  21.,\n",
       "         22.,  23.,  24.,  25.,  26.,  27.,  28.,  29.,  30.,  31.,  32.,\n",
       "         33.,  34.,  35.,  36.,  37.,  38.,  39.,  40.,  41.,  42.,  43.,\n",
       "         44.,  45.,  46.,  47.,  48.,  49.,  50.,  51.,  52.,  53.,  54.,\n",
       "         55.,  56.,  57.,  58.,  59.,  60.,  61.,  62.,  63.,  64.,  65.,\n",
       "         66.,  67.,  68.,  69.,  70.,  71.,  72.,  73.,  74.,  75.,  76.,\n",
       "         77.,  78.,  79.,  80.,  81.,  82.,  83.,  84.,  85.,  86.,  87.,\n",
       "         88.,  89.,  90.,  91.,  92.,  93.,  94.,  95.,  96.,  97.,  98.,\n",
       "         99., 100., 101., 102., 103., 104., 105., 106., 107., 108., 109.,\n",
       "        110., 111., 112., 113., 114., 115., 116., 117., 118., 119., 120.,\n",
       "        121., 122., 123., 124., 125., 126., 127., 128., 129., 130., 131.,\n",
       "        132., 133., 134., 135., 136., 137., 138., 139., 140., 141., 142.,\n",
       "        143., 144., 145., 146., 147., 148., 149., 150., 151., 152., 153.,\n",
       "        154., 155., 156., 157., 158., 159., 160., 161., 162., 163., 164.,\n",
       "        165., 166., 167., 168., 169., 170., 171., 172., 173., 174., 175.,\n",
       "        176., 177., 178., 179., 180., 181., 182., 183., 184., 185., 186.,\n",
       "        187., 188., 189., 190., 191., 192., 193., 194., 195., 196., 197.,\n",
       "        198., 199., 200., 201., 202., 203., 204., 205., 206., 207., 208.,\n",
       "        209., 210., 211., 212., 213., 214., 215., 216., 217., 218., 219.,\n",
       "        220., 221., 222., 223., 224., 225., 226., 227., 228., 229., 230.,\n",
       "        231., 232., 233., 234., 235., 236., 237., 238., 239., 240., 241.,\n",
       "        242., 243., 244., 245., 246., 247., 248., 249., 250., 251., 252.,\n",
       "        253., 254., 255., 256.]),\n",
       " <BarContainer object of 256 artists>)"
      ]
     },
     "execution_count": 32,
     "metadata": {},
     "output_type": "execute_result"
    },
    {
     "data": {
      "text/plain": [
       "<Figure size 640x480 with 1 Axes>"
      ],
      "image/png": "[encoded data removed]"
     },
     "metadata": {},
     "output_type": "display_data"
    }
   ],
   "execution_count": 32
  },
  {
   "metadata": {
    "ExecuteTime": {
     "end_time": "2024-11-06T15:41:17.873173Z",
     "start_time": "2024-11-06T15:41:17.825598Z"
    }
   },
   "cell_type": "code",
   "source": [
    "otsu_image = Image.fromarray(otsu_array)\n",
    "otsu_image.show()"
   ],
   "id": "81e1245a6cf8fbac",
   "outputs": [],
   "execution_count": 33
  },
  {
   "metadata": {},
   "cell_type": "markdown",
   "source": "# Zmiana jasności",
   "id": "c699520a55395aad"
  },
  {
   "metadata": {
    "ExecuteTime": {
     "end_time": "2024-11-06T15:41:17.884034Z",
     "start_time": "2024-11-06T15:41:17.877187Z"
    }
   },
   "cell_type": "code",
   "source": [
    "def change_brightness(brightness_array, scale):\n",
    "    brightness_array = brightness_array*scale\n",
    "    return brightness_array"
   ],
   "id": "d5ec54252aac38d7",
   "outputs": [],
   "execution_count": 34
  },
  {
   "metadata": {
    "ExecuteTime": {
     "end_time": "2024-11-06T15:41:17.897274Z",
     "start_time": "2024-11-06T15:41:17.888051Z"
    }
   },
   "cell_type": "code",
   "source": "brightness_array = change_brightness(img_array, 0.6)",
   "id": "27c2cf438b543b33",
   "outputs": [],
   "execution_count": 35
  },
  {
   "metadata": {
    "ExecuteTime": {
     "end_time": "2024-11-06T15:41:18.800724Z",
     "start_time": "2024-11-06T15:41:17.900287Z"
    }
   },
   "cell_type": "code",
   "source": "plt.hist(brightness_array.flatten(), bins=256, range=(0,256))",
   "id": "9cb7016e8ca6eafc",
   "outputs": [
    {
     "data": {
      "text/plain": [
       "(array([   0.,    0.,    0.,    0.,    0.,    0.,    0.,    0.,    0.,\n",
       "           0.,    0.,    0.,    0.,    0., 2412.,    0.,    0.,    0.,\n",
       "           0., 3959.,    0.,    0., 1914., 3377.,    0., 1051.,    0.,\n",
       "        6051.,  751.,    0., 1172., 1278.,    0., 4018., 5086.,    0.,\n",
       "        2575., 1400.,    0., 6054., 1964., 6254.,    0., 2513., 2472.,\n",
       "        2051., 7533., 1044., 2592., 4825., 2409., 2179., 6542., 1955.,\n",
       "         841., 1910., 4762., 2042., 7980.,    0., 2750., 2637., 3228.,\n",
       "        4105., 5178.,    0., 3189., 3101., 2570., 2573., 4425., 1921.,\n",
       "        3906.,  713.,    0., 6404., 4204.,    0., 2741., 3963.,    0.,\n",
       "        4933., 3289.,  950.,  820., 1111., 3178., 3911.,  622., 1728.,\n",
       "        1693., 2385.,  668., 4242., 1192.,    0., 2345.,    0., 1271.,\n",
       "        2186., 2718., 1161.,  833., 1074.,  695., 3235., 1800.,    0.,\n",
       "           0., 2346., 1004., 2456., 1373., 1438.,  612., 2574.,    0.,\n",
       "        3393.,  620.,    0., 2610.,  617., 1211., 2733., 1963., 1417.,\n",
       "        1062., 2398.,    0., 3268., 1314.,  790., 1772., 2366.,    0.,\n",
       "        1962., 3008.,    0., 2591., 2842.,    0.,    0., 2235.,  965.,\n",
       "         590.,    0.,    0.,    0.,    0.,    0.,    0.,    0.,    0.,\n",
       "           0.,    0.,    0.,    0.,    0.,    0.,    0.,    0.,    0.,\n",
       "           0.,    0.,    0.,    0.,    0.,    0.,    0.,    0.,    0.,\n",
       "           0.,    0.,    0.,    0.,    0.,    0.,    0.,    0.,    0.,\n",
       "           0.,    0.,    0.,    0.,    0.,    0.,    0.,    0.,    0.,\n",
       "           0.,    0.,    0.,    0.,    0.,    0.,    0.,    0.,    0.,\n",
       "           0.,    0.,    0.,    0.,    0.,    0.,    0.,    0.,    0.,\n",
       "           0.,    0.,    0.,    0.,    0.,    0.,    0.,    0.,    0.,\n",
       "           0.,    0.,    0.,    0.,    0.,    0.,    0.,    0.,    0.,\n",
       "           0.,    0.,    0.,    0.,    0.,    0.,    0.,    0.,    0.,\n",
       "           0.,    0.,    0.,    0.,    0.,    0.,    0.,    0.,    0.,\n",
       "           0.,    0.,    0.,    0.,    0.,    0.,    0.,    0.,    0.,\n",
       "           0.,    0.,    0.,    0.]),\n",
       " array([  0.,   1.,   2.,   3.,   4.,   5.,   6.,   7.,   8.,   9.,  10.,\n",
       "         11.,  12.,  13.,  14.,  15.,  16.,  17.,  18.,  19.,  20.,  21.,\n",
       "         22.,  23.,  24.,  25.,  26.,  27.,  28.,  29.,  30.,  31.,  32.,\n",
       "         33.,  34.,  35.,  36.,  37.,  38.,  39.,  40.,  41.,  42.,  43.,\n",
       "         44.,  45.,  46.,  47.,  48.,  49.,  50.,  51.,  52.,  53.,  54.,\n",
       "         55.,  56.,  57.,  58.,  59.,  60.,  61.,  62.,  63.,  64.,  65.,\n",
       "         66.,  67.,  68.,  69.,  70.,  71.,  72.,  73.,  74.,  75.,  76.,\n",
       "         77.,  78.,  79.,  80.,  81.,  82.,  83.,  84.,  85.,  86.,  87.,\n",
       "         88.,  89.,  90.,  91.,  92.,  93.,  94.,  95.,  96.,  97.,  98.,\n",
       "         99., 100., 101., 102., 103., 104., 105., 106., 107., 108., 109.,\n",
       "        110., 111., 112., 113., 114., 115., 116., 117., 118., 119., 120.,\n",
       "        121., 122., 123., 124., 125., 126., 127., 128., 129., 130., 131.,\n",
       "        132., 133., 134., 135., 136., 137., 138., 139., 140., 141., 142.,\n",
       "        143., 144., 145., 146., 147., 148., 149., 150., 151., 152., 153.,\n",
       "        154., 155., 156., 157., 158., 159., 160., 161., 162., 163., 164.,\n",
       "        165., 166., 167., 168., 169., 170., 171., 172., 173., 174., 175.,\n",
       "        176., 177., 178., 179., 180., 181., 182., 183., 184., 185., 186.,\n",
       "        187., 188., 189., 190., 191., 192., 193., 194., 195., 196., 197.,\n",
       "        198., 199., 200., 201., 202., 203., 204., 205., 206., 207., 208.,\n",
       "        209., 210., 211., 212., 213., 214., 215., 216., 217., 218., 219.,\n",
       "        220., 221., 222., 223., 224., 225., 226., 227., 228., 229., 230.,\n",
       "        231., 232., 233., 234., 235., 236., 237., 238., 239., 240., 241.,\n",
       "        242., 243., 244., 245., 246., 247., 248., 249., 250., 251., 252.,\n",
       "        253., 254., 255., 256.]),\n",
       " <BarContainer object of 256 artists>)"
      ]
     },
     "execution_count": 36,
     "metadata": {},
     "output_type": "execute_result"
    },
    {
     "data": {
      "text/plain": [
       "<Figure size 640x480 with 1 Axes>"
      ],
      "image/png": "[encoded data removed]"
     },
     "metadata": {},
     "output_type": "display_data"
    }
   ],
   "execution_count": 36
  },
  {
   "metadata": {
    "ExecuteTime": {
     "end_time": "2024-11-06T15:41:18.921387Z",
     "start_time": "2024-11-06T15:41:18.803738Z"
    }
   },
   "cell_type": "code",
   "source": [
    "new_image = Image.fromarray(brightness_array)\n",
    "new_image.show()"
   ],
   "id": "dcc126d6cf5fe2f1",
   "outputs": [],
   "execution_count": 37
  }
 ],
 "metadata": {
  "kernelspec": {
   "display_name": "Python 3",
   "language": "python",
   "name": "python3"
  },
  "language_info": {
   "codemirror_mode": {
    "name": "ipython",
    "version": 2
   },
   "file_extension": ".py",
   "mimetype": "text/x-python",
   "name": "python",
   "nbconvert_exporter": "python",
   "pygments_lexer": "ipython2",
   "version": "2.7.6"
  }
 },
 "nbformat": 4,
 "nbformat_minor": 5
}
