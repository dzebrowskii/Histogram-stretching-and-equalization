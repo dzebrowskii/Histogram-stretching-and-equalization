{
 "cells": [
  {
   "cell_type": "code",
   "id": "initial_id",
   "metadata": {
    "collapsed": true,
    "ExecuteTime": {
     "end_time": "2024-10-31T22:06:30.785467Z",
     "start_time": "2024-10-31T22:06:30.780991Z"
    }
   },
   "source": [
    "import numpy as np\n",
    "import pandas as pd\n",
    "import matplotlib.pyplot as plt\n",
    "from PIL import Image\n",
    "from IPython.display import display"
   ],
   "outputs": [],
   "execution_count": 261
  },
  {
   "metadata": {
    "ExecuteTime": {
     "end_time": "2024-10-31T22:06:30.913581Z",
     "start_time": "2024-10-31T22:06:30.910569Z"
    }
   },
   "cell_type": "code",
   "source": [
    "def load_image(img_path):\n",
    "    image = Image.open(img_path)\n",
    "    return image"
   ],
   "id": "1295b9e1f6755e39",
   "outputs": [],
   "execution_count": 262
  },
  {
   "metadata": {
    "ExecuteTime": {
     "end_time": "2024-10-31T22:06:30.947290Z",
     "start_time": "2024-10-31T22:06:30.938637Z"
    }
   },
   "cell_type": "code",
   "source": [
    "image = load_image('Lenna_(test_image).png')\n",
    "image = image.convert('L')"
   ],
   "id": "b568700a25d98c15",
   "outputs": [],
   "execution_count": 263
  },
  {
   "metadata": {
    "ExecuteTime": {
     "end_time": "2024-10-31T22:06:30.983116Z",
     "start_time": "2024-10-31T22:06:30.954777Z"
    }
   },
   "cell_type": "code",
   "source": "image.show()",
   "id": "db5ed06ed45179bc",
   "outputs": [],
   "execution_count": 264
  },
  {
   "metadata": {
    "ExecuteTime": {
     "end_time": "2024-10-31T22:06:30.997720Z",
     "start_time": "2024-10-31T22:06:30.993744Z"
    }
   },
   "cell_type": "code",
   "source": "img_array = np.array(image)",
   "id": "8d26139ea54352a6",
   "outputs": [],
   "execution_count": 265
  },
  {
   "metadata": {},
   "cell_type": "markdown",
   "source": "# Wyświetlanie histogramu wczytanego obrazu",
   "id": "dd7894df4e829fcc"
  },
  {
   "metadata": {
    "ExecuteTime": {
     "end_time": "2024-10-31T22:06:31.003267Z",
     "start_time": "2024-10-31T22:06:30.999730Z"
    }
   },
   "cell_type": "code",
   "source": "gray_hist_data = img_array.flatten()",
   "id": "40c19c13277611",
   "outputs": [],
   "execution_count": 266
  },
  {
   "metadata": {
    "ExecuteTime": {
     "end_time": "2024-10-31T22:06:31.234569Z",
     "start_time": "2024-10-31T22:06:31.009289Z"
    }
   },
   "cell_type": "code",
   "source": "plt.hist(gray_hist_data, bins = 255, range=(0, 255))",
   "id": "7c94b9e895b638d7",
   "outputs": [
    {
     "data": {
      "text/plain": [
       "(array([0.000e+00, 0.000e+00, 0.000e+00, 0.000e+00, 0.000e+00, 0.000e+00,\n",
       "        0.000e+00, 0.000e+00, 0.000e+00, 0.000e+00, 0.000e+00, 0.000e+00,\n",
       "        0.000e+00, 0.000e+00, 0.000e+00, 0.000e+00, 0.000e+00, 0.000e+00,\n",
       "        0.000e+00, 0.000e+00, 0.000e+00, 0.000e+00, 0.000e+00, 0.000e+00,\n",
       "        0.000e+00, 1.000e+00, 7.000e+00, 1.900e+01, 2.900e+01, 5.900e+01,\n",
       "        9.700e+01, 1.370e+02, 1.820e+02, 2.210e+02, 2.990e+02, 4.220e+02,\n",
       "        4.990e+02, 6.140e+02, 7.580e+02, 9.440e+02, 1.060e+03, 1.255e+03,\n",
       "        1.441e+03, 1.648e+03, 1.760e+03, 1.884e+03, 1.998e+03, 2.090e+03,\n",
       "        2.023e+03, 2.101e+03, 2.088e+03, 2.030e+03, 1.978e+03, 1.808e+03,\n",
       "        1.730e+03, 1.668e+03, 1.577e+03, 1.469e+03, 1.278e+03, 1.236e+03,\n",
       "        1.220e+03, 1.003e+03, 9.300e+02, 9.750e+02, 8.800e+02, 8.930e+02,\n",
       "        7.890e+02, 7.980e+02, 7.690e+02, 7.820e+02, 8.500e+02, 8.210e+02,\n",
       "        8.310e+02, 7.850e+02, 8.830e+02, 9.060e+02, 8.670e+02, 8.540e+02,\n",
       "        9.470e+02, 9.730e+02, 9.060e+02, 9.120e+02, 8.670e+02, 9.340e+02,\n",
       "        9.330e+02, 9.700e+02, 1.005e+03, 1.019e+03, 1.060e+03, 1.133e+03,\n",
       "        1.125e+03, 1.186e+03, 1.219e+03, 1.324e+03, 1.400e+03, 1.538e+03,\n",
       "        1.619e+03, 1.807e+03, 1.871e+03, 2.085e+03, 1.895e+03, 1.935e+03,\n",
       "        1.958e+03, 1.831e+03, 1.761e+03, 1.729e+03, 1.614e+03, 1.504e+03,\n",
       "        1.437e+03, 1.363e+03, 1.362e+03, 1.347e+03, 1.345e+03, 1.448e+03,\n",
       "        1.362e+03, 1.352e+03, 1.388e+03, 1.450e+03, 1.561e+03, 1.575e+03,\n",
       "        1.604e+03, 1.781e+03, 1.813e+03, 1.893e+03, 2.037e+03, 2.137e+03,\n",
       "        2.304e+03, 2.319e+03, 2.373e+03, 2.519e+03, 2.305e+03, 2.302e+03,\n",
       "        2.252e+03, 2.076e+03, 1.995e+03, 1.818e+03, 1.935e+03, 1.903e+03,\n",
       "        2.025e+03, 2.140e+03, 2.258e+03, 2.305e+03, 2.324e+03, 2.455e+03,\n",
       "        2.458e+03, 2.409e+03, 2.234e+03, 2.315e+03, 2.288e+03, 2.182e+03,\n",
       "        2.275e+03, 2.315e+03, 2.391e+03, 2.598e+03, 2.685e+03, 2.742e+03,\n",
       "        2.701e+03, 2.556e+03, 2.410e+03, 2.261e+03, 2.041e+03, 1.853e+03,\n",
       "        1.781e+03, 1.613e+03, 1.473e+03, 1.425e+03, 1.353e+03, 1.233e+03,\n",
       "        1.254e+03, 1.195e+03, 1.171e+03, 1.208e+03, 1.344e+03, 1.265e+03,\n",
       "        1.230e+03, 1.158e+03, 1.185e+03, 1.227e+03, 1.086e+03, 9.420e+02,\n",
       "        9.040e+02, 8.220e+02, 7.840e+02, 6.890e+02, 6.100e+02, 6.280e+02,\n",
       "        6.440e+02, 6.790e+02, 6.350e+02, 6.620e+02, 7.390e+02, 7.970e+02,\n",
       "        8.280e+02, 9.410e+02, 9.050e+02, 9.780e+02, 9.190e+02, 9.100e+02,\n",
       "        8.430e+02, 8.240e+02, 8.670e+02, 9.020e+02, 8.340e+02, 8.860e+02,\n",
       "        9.090e+02, 9.700e+02, 9.760e+02, 1.065e+03, 1.043e+03, 1.068e+03,\n",
       "        9.560e+02, 9.820e+02, 9.550e+02, 8.640e+02, 6.970e+02, 5.440e+02,\n",
       "        4.910e+02, 3.930e+02, 3.810e+02, 2.840e+02, 2.300e+02, 2.340e+02,\n",
       "        1.950e+02, 1.880e+02, 1.250e+02, 7.700e+01, 7.400e+01, 5.900e+01,\n",
       "        5.100e+01, 2.200e+01, 1.900e+01, 9.000e+00, 7.000e+00, 6.000e+00,\n",
       "        8.000e+00, 1.000e+00, 0.000e+00, 0.000e+00, 1.000e+00, 0.000e+00,\n",
       "        0.000e+00, 0.000e+00, 2.000e+00, 0.000e+00, 1.000e+00, 1.000e+00,\n",
       "        0.000e+00, 0.000e+00, 0.000e+00, 0.000e+00, 0.000e+00, 0.000e+00,\n",
       "        0.000e+00, 0.000e+00, 0.000e+00]),\n",
       " array([  0.,   1.,   2.,   3.,   4.,   5.,   6.,   7.,   8.,   9.,  10.,\n",
       "         11.,  12.,  13.,  14.,  15.,  16.,  17.,  18.,  19.,  20.,  21.,\n",
       "         22.,  23.,  24.,  25.,  26.,  27.,  28.,  29.,  30.,  31.,  32.,\n",
       "         33.,  34.,  35.,  36.,  37.,  38.,  39.,  40.,  41.,  42.,  43.,\n",
       "         44.,  45.,  46.,  47.,  48.,  49.,  50.,  51.,  52.,  53.,  54.,\n",
       "         55.,  56.,  57.,  58.,  59.,  60.,  61.,  62.,  63.,  64.,  65.,\n",
       "         66.,  67.,  68.,  69.,  70.,  71.,  72.,  73.,  74.,  75.,  76.,\n",
       "         77.,  78.,  79.,  80.,  81.,  82.,  83.,  84.,  85.,  86.,  87.,\n",
       "         88.,  89.,  90.,  91.,  92.,  93.,  94.,  95.,  96.,  97.,  98.,\n",
       "         99., 100., 101., 102., 103., 104., 105., 106., 107., 108., 109.,\n",
       "        110., 111., 112., 113., 114., 115., 116., 117., 118., 119., 120.,\n",
       "        121., 122., 123., 124., 125., 126., 127., 128., 129., 130., 131.,\n",
       "        132., 133., 134., 135., 136., 137., 138., 139., 140., 141., 142.,\n",
       "        143., 144., 145., 146., 147., 148., 149., 150., 151., 152., 153.,\n",
       "        154., 155., 156., 157., 158., 159., 160., 161., 162., 163., 164.,\n",
       "        165., 166., 167., 168., 169., 170., 171., 172., 173., 174., 175.,\n",
       "        176., 177., 178., 179., 180., 181., 182., 183., 184., 185., 186.,\n",
       "        187., 188., 189., 190., 191., 192., 193., 194., 195., 196., 197.,\n",
       "        198., 199., 200., 201., 202., 203., 204., 205., 206., 207., 208.,\n",
       "        209., 210., 211., 212., 213., 214., 215., 216., 217., 218., 219.,\n",
       "        220., 221., 222., 223., 224., 225., 226., 227., 228., 229., 230.,\n",
       "        231., 232., 233., 234., 235., 236., 237., 238., 239., 240., 241.,\n",
       "        242., 243., 244., 245., 246., 247., 248., 249., 250., 251., 252.,\n",
       "        253., 254., 255.]),\n",
       " <BarContainer object of 255 artists>)"
      ]
     },
     "execution_count": 267,
     "metadata": {},
     "output_type": "execute_result"
    },
    {
     "data": {
      "text/plain": [
       "<Figure size 640x480 with 1 Axes>"
      ],
      "image/png": "[encoded data removed]"
     },
     "metadata": {},
     "output_type": "display_data"
    }
   ],
   "execution_count": 267
  },
  {
   "metadata": {},
   "cell_type": "markdown",
   "source": "# Rozciąganie histogramu",
   "id": "806cb87b3d84ab34"
  },
  {
   "metadata": {},
   "cell_type": "markdown",
   "source": "## LUT TABLE",
   "id": "70826ee7c5581595"
  },
  {
   "metadata": {
    "ExecuteTime": {
     "end_time": "2024-10-31T22:06:31.255465Z",
     "start_time": "2024-10-31T22:06:31.235587Z"
    }
   },
   "cell_type": "code",
   "source": [
    "lut_table = np.zeros(256)\n",
    "max_value = max(gray_hist_data)\n",
    "min_value = min(gray_hist_data)\n",
    "for i in range(0, len(lut_table)):\n",
    "    if i >= max_value:\n",
    "        lut_table[i] = 255\n",
    "        \n",
    "    elif i <= min_value:\n",
    "        lut_table[i] = 0\n",
    "        \n",
    "    else:\n",
    "        lut_table[i] = int((i - min_value)/(max_value - min_value) * 255)"
   ],
   "id": "8e10780638f58f29",
   "outputs": [],
   "execution_count": 268
  },
  {
   "metadata": {
    "ExecuteTime": {
     "end_time": "2024-10-31T22:06:31.262889Z",
     "start_time": "2024-10-31T22:06:31.256474Z"
    }
   },
   "cell_type": "code",
   "source": "lut_table",
   "id": "bc6e1d962e65e520",
   "outputs": [
    {
     "data": {
      "text/plain": [
       "array([  0.,   0.,   0.,   0.,   0.,   0.,   0.,   0.,   0.,   0.,   0.,\n",
       "         0.,   0.,   0.,   0.,   0.,   0.,   0.,   0.,   0.,   0.,   0.,\n",
       "         0.,   0.,   0.,   0.,   1.,   2.,   3.,   4.,   5.,   6.,   8.,\n",
       "         9.,  10.,  11.,  12.,  13.,  15.,  16.,  17.,  18.,  19.,  20.,\n",
       "        22.,  23.,  24.,  25.,  26.,  27.,  28.,  30.,  31.,  32.,  33.,\n",
       "        34.,  35.,  37.,  38.,  39.,  40.,  41.,  42.,  44.,  45.,  46.,\n",
       "        47.,  48.,  49.,  51.,  52.,  53.,  54.,  55.,  56.,  57.,  59.,\n",
       "        60.,  61.,  62.,  63.,  64.,  66.,  67.,  68.,  69.,  70.,  71.,\n",
       "        73.,  74.,  75.,  76.,  77.,  78.,  79.,  81.,  82.,  83.,  84.,\n",
       "        85.,  86.,  88.,  89.,  90.,  91.,  92.,  93.,  95.,  96.,  97.,\n",
       "        98.,  99., 100., 102., 103., 104., 105., 106., 107., 108., 110.,\n",
       "       111., 112., 113., 114., 115., 117., 118., 119., 120., 121., 122.,\n",
       "       124., 125., 126., 127., 128., 129., 130., 132., 133., 134., 135.,\n",
       "       136., 137., 139., 140., 141., 142., 143., 144., 146., 147., 148.,\n",
       "       149., 150., 151., 153., 154., 155., 156., 157., 158., 159., 161.,\n",
       "       162., 163., 164., 165., 166., 168., 169., 170., 171., 172., 173.,\n",
       "       175., 176., 177., 178., 179., 180., 181., 183., 184., 185., 186.,\n",
       "       187., 188., 190., 191., 192., 193., 194., 195., 197., 198., 199.,\n",
       "       200., 201., 202., 204., 205., 206., 207., 208., 209., 210., 212.,\n",
       "       213., 214., 215., 216., 217., 219., 220., 221., 222., 223., 224.,\n",
       "       226., 227., 228., 229., 230., 231., 232., 234., 235., 236., 237.,\n",
       "       238., 239., 241., 242., 243., 244., 245., 246., 248., 249., 250.,\n",
       "       251., 252., 253., 255., 255., 255., 255., 255., 255., 255., 255.,\n",
       "       255., 255., 255.])"
      ]
     },
     "execution_count": 269,
     "metadata": {},
     "output_type": "execute_result"
    }
   ],
   "execution_count": 269
  },
  {
   "metadata": {
    "ExecuteTime": {
     "end_time": "2024-10-31T22:06:31.269159Z",
     "start_time": "2024-10-31T22:06:31.264898Z"
    }
   },
   "cell_type": "code",
   "source": "extend_hist_data = lut_table[img_array]",
   "id": "71e7557067c96aed",
   "outputs": [],
   "execution_count": 270
  },
  {
   "metadata": {
    "ExecuteTime": {
     "end_time": "2024-10-31T22:06:31.276008Z",
     "start_time": "2024-10-31T22:06:31.270167Z"
    }
   },
   "cell_type": "code",
   "source": "extend_hist_data",
   "id": "892c41b7a96eae1f",
   "outputs": [
    {
     "data": {
      "text/plain": [
       "array([[158., 158., 158., ..., 168., 150., 119.],\n",
       "       [158., 158., 158., ..., 168., 150., 119.],\n",
       "       [158., 158., 158., ..., 168., 150., 119.],\n",
       "       ...,\n",
       "       [ 20.,  20.,  28., ...,  91.,  86.,  84.],\n",
       "       [ 22.,  22.,  34., ...,  91.,  92.,  96.],\n",
       "       [ 22.,  22.,  34., ...,  91.,  92.,  96.]])"
      ]
     },
     "execution_count": 271,
     "metadata": {},
     "output_type": "execute_result"
    }
   ],
   "execution_count": 271
  },
  {
   "metadata": {
    "ExecuteTime": {
     "end_time": "2024-10-31T22:06:31.282403Z",
     "start_time": "2024-10-31T22:06:31.277016Z"
    }
   },
   "cell_type": "code",
   "source": "extend_hist_data_flatten = extend_hist_data.flatten()",
   "id": "24705e570cf85a12",
   "outputs": [],
   "execution_count": 272
  },
  {
   "metadata": {
    "ExecuteTime": {
     "end_time": "2024-10-31T22:06:31.497329Z",
     "start_time": "2024-10-31T22:06:31.283412Z"
    }
   },
   "cell_type": "code",
   "source": "plt.hist(extend_hist_data_flatten, bins = 255, range = (0,255))",
   "id": "231e524eaac246ef",
   "outputs": [
    {
     "data": {
      "text/plain": [
       "(array([1.000e+00, 7.000e+00, 1.900e+01, 2.900e+01, 5.900e+01, 9.700e+01,\n",
       "        1.370e+02, 0.000e+00, 1.820e+02, 2.210e+02, 2.990e+02, 4.220e+02,\n",
       "        4.990e+02, 6.140e+02, 0.000e+00, 7.580e+02, 9.440e+02, 1.060e+03,\n",
       "        1.255e+03, 1.441e+03, 1.648e+03, 0.000e+00, 1.760e+03, 1.884e+03,\n",
       "        1.998e+03, 2.090e+03, 2.023e+03, 2.101e+03, 2.088e+03, 0.000e+00,\n",
       "        2.030e+03, 1.978e+03, 1.808e+03, 1.730e+03, 1.668e+03, 1.577e+03,\n",
       "        0.000e+00, 1.469e+03, 1.278e+03, 1.236e+03, 1.220e+03, 1.003e+03,\n",
       "        9.300e+02, 0.000e+00, 9.750e+02, 8.800e+02, 8.930e+02, 7.890e+02,\n",
       "        7.980e+02, 7.690e+02, 0.000e+00, 7.820e+02, 8.500e+02, 8.210e+02,\n",
       "        8.310e+02, 7.850e+02, 8.830e+02, 9.060e+02, 0.000e+00, 8.670e+02,\n",
       "        8.540e+02, 9.470e+02, 9.730e+02, 9.060e+02, 9.120e+02, 0.000e+00,\n",
       "        8.670e+02, 9.340e+02, 9.330e+02, 9.700e+02, 1.005e+03, 1.019e+03,\n",
       "        0.000e+00, 1.060e+03, 1.133e+03, 1.125e+03, 1.186e+03, 1.219e+03,\n",
       "        1.324e+03, 1.400e+03, 0.000e+00, 1.538e+03, 1.619e+03, 1.807e+03,\n",
       "        1.871e+03, 2.085e+03, 1.895e+03, 0.000e+00, 1.935e+03, 1.958e+03,\n",
       "        1.831e+03, 1.761e+03, 1.729e+03, 1.614e+03, 0.000e+00, 1.504e+03,\n",
       "        1.437e+03, 1.363e+03, 1.362e+03, 1.347e+03, 1.345e+03, 0.000e+00,\n",
       "        1.448e+03, 1.362e+03, 1.352e+03, 1.388e+03, 1.450e+03, 1.561e+03,\n",
       "        1.575e+03, 0.000e+00, 1.604e+03, 1.781e+03, 1.813e+03, 1.893e+03,\n",
       "        2.037e+03, 2.137e+03, 0.000e+00, 2.304e+03, 2.319e+03, 2.373e+03,\n",
       "        2.519e+03, 2.305e+03, 2.302e+03, 0.000e+00, 2.252e+03, 2.076e+03,\n",
       "        1.995e+03, 1.818e+03, 1.935e+03, 1.903e+03, 2.025e+03, 0.000e+00,\n",
       "        2.140e+03, 2.258e+03, 2.305e+03, 2.324e+03, 2.455e+03, 2.458e+03,\n",
       "        0.000e+00, 2.409e+03, 2.234e+03, 2.315e+03, 2.288e+03, 2.182e+03,\n",
       "        2.275e+03, 0.000e+00, 2.315e+03, 2.391e+03, 2.598e+03, 2.685e+03,\n",
       "        2.742e+03, 2.701e+03, 0.000e+00, 2.556e+03, 2.410e+03, 2.261e+03,\n",
       "        2.041e+03, 1.853e+03, 1.781e+03, 1.613e+03, 0.000e+00, 1.473e+03,\n",
       "        1.425e+03, 1.353e+03, 1.233e+03, 1.254e+03, 1.195e+03, 0.000e+00,\n",
       "        1.171e+03, 1.208e+03, 1.344e+03, 1.265e+03, 1.230e+03, 1.158e+03,\n",
       "        0.000e+00, 1.185e+03, 1.227e+03, 1.086e+03, 9.420e+02, 9.040e+02,\n",
       "        8.220e+02, 7.840e+02, 0.000e+00, 6.890e+02, 6.100e+02, 6.280e+02,\n",
       "        6.440e+02, 6.790e+02, 6.350e+02, 0.000e+00, 6.620e+02, 7.390e+02,\n",
       "        7.970e+02, 8.280e+02, 9.410e+02, 9.050e+02, 0.000e+00, 9.780e+02,\n",
       "        9.190e+02, 9.100e+02, 8.430e+02, 8.240e+02, 8.670e+02, 0.000e+00,\n",
       "        9.020e+02, 8.340e+02, 8.860e+02, 9.090e+02, 9.700e+02, 9.760e+02,\n",
       "        1.065e+03, 0.000e+00, 1.043e+03, 1.068e+03, 9.560e+02, 9.820e+02,\n",
       "        9.550e+02, 8.640e+02, 0.000e+00, 6.970e+02, 5.440e+02, 4.910e+02,\n",
       "        3.930e+02, 3.810e+02, 2.840e+02, 0.000e+00, 2.300e+02, 2.340e+02,\n",
       "        1.950e+02, 1.880e+02, 1.250e+02, 7.700e+01, 7.400e+01, 0.000e+00,\n",
       "        5.900e+01, 5.100e+01, 2.200e+01, 1.900e+01, 9.000e+00, 7.000e+00,\n",
       "        0.000e+00, 6.000e+00, 8.000e+00, 1.000e+00, 0.000e+00, 0.000e+00,\n",
       "        1.000e+00, 0.000e+00, 0.000e+00, 0.000e+00, 0.000e+00, 2.000e+00,\n",
       "        0.000e+00, 1.000e+00, 1.000e+00]),\n",
       " array([  0.,   1.,   2.,   3.,   4.,   5.,   6.,   7.,   8.,   9.,  10.,\n",
       "         11.,  12.,  13.,  14.,  15.,  16.,  17.,  18.,  19.,  20.,  21.,\n",
       "         22.,  23.,  24.,  25.,  26.,  27.,  28.,  29.,  30.,  31.,  32.,\n",
       "         33.,  34.,  35.,  36.,  37.,  38.,  39.,  40.,  41.,  42.,  43.,\n",
       "         44.,  45.,  46.,  47.,  48.,  49.,  50.,  51.,  52.,  53.,  54.,\n",
       "         55.,  56.,  57.,  58.,  59.,  60.,  61.,  62.,  63.,  64.,  65.,\n",
       "         66.,  67.,  68.,  69.,  70.,  71.,  72.,  73.,  74.,  75.,  76.,\n",
       "         77.,  78.,  79.,  80.,  81.,  82.,  83.,  84.,  85.,  86.,  87.,\n",
       "         88.,  89.,  90.,  91.,  92.,  93.,  94.,  95.,  96.,  97.,  98.,\n",
       "         99., 100., 101., 102., 103., 104., 105., 106., 107., 108., 109.,\n",
       "        110., 111., 112., 113., 114., 115., 116., 117., 118., 119., 120.,\n",
       "        121., 122., 123., 124., 125., 126., 127., 128., 129., 130., 131.,\n",
       "        132., 133., 134., 135., 136., 137., 138., 139., 140., 141., 142.,\n",
       "        143., 144., 145., 146., 147., 148., 149., 150., 151., 152., 153.,\n",
       "        154., 155., 156., 157., 158., 159., 160., 161., 162., 163., 164.,\n",
       "        165., 166., 167., 168., 169., 170., 171., 172., 173., 174., 175.,\n",
       "        176., 177., 178., 179., 180., 181., 182., 183., 184., 185., 186.,\n",
       "        187., 188., 189., 190., 191., 192., 193., 194., 195., 196., 197.,\n",
       "        198., 199., 200., 201., 202., 203., 204., 205., 206., 207., 208.,\n",
       "        209., 210., 211., 212., 213., 214., 215., 216., 217., 218., 219.,\n",
       "        220., 221., 222., 223., 224., 225., 226., 227., 228., 229., 230.,\n",
       "        231., 232., 233., 234., 235., 236., 237., 238., 239., 240., 241.,\n",
       "        242., 243., 244., 245., 246., 247., 248., 249., 250., 251., 252.,\n",
       "        253., 254., 255.]),\n",
       " <BarContainer object of 255 artists>)"
      ]
     },
     "execution_count": 273,
     "metadata": {},
     "output_type": "execute_result"
    },
    {
     "data": {
      "text/plain": [
       "<Figure size 640x480 with 1 Axes>"
      ],
      "image/png": "[encoded data removed]"
     },
     "metadata": {},
     "output_type": "display_data"
    }
   ],
   "execution_count": 273
  },
  {
   "metadata": {
    "ExecuteTime": {
     "end_time": "2024-10-31T22:06:31.504673Z",
     "start_time": "2024-10-31T22:06:31.498342Z"
    }
   },
   "cell_type": "code",
   "source": "extend_image = Image.fromarray(extend_hist_data)",
   "id": "c33fb169ea135866",
   "outputs": [],
   "execution_count": 274
  },
  {
   "metadata": {
    "ExecuteTime": {
     "end_time": "2024-10-31T22:06:31.545422Z",
     "start_time": "2024-10-31T22:06:31.505681Z"
    }
   },
   "cell_type": "code",
   "source": "extend_image.show()",
   "id": "49a59ededa3758b8",
   "outputs": [],
   "execution_count": 275
  },
  {
   "metadata": {},
   "cell_type": "markdown",
   "source": "# Wyrównanie histogramu",
   "id": "eb20270f53c85f97"
  },
  {
   "metadata": {},
   "cell_type": "markdown",
   "source": "## histogram rozkładu",
   "id": "a1277e96e0296290"
  },
  {
   "metadata": {
    "ExecuteTime": {
     "end_time": "2024-10-31T22:06:31.557336Z",
     "start_time": "2024-10-31T22:06:31.548436Z"
    }
   },
   "cell_type": "code",
   "source": "hist_data, bin_edges = np.histogram(gray_hist_data, bins = 255, range=(0, 255))",
   "id": "f13ef6bd04660b0",
   "outputs": [],
   "execution_count": 276
  },
  {
   "metadata": {
    "ExecuteTime": {
     "end_time": "2024-10-31T22:06:31.562594Z",
     "start_time": "2024-10-31T22:06:31.558621Z"
    }
   },
   "cell_type": "code",
   "source": "distribution = np.cumsum(hist_data) / len(gray_hist_data)",
   "id": "a03b9e7a619d9d48",
   "outputs": [],
   "execution_count": 277
  },
  {
   "metadata": {
    "ExecuteTime": {
     "end_time": "2024-10-31T22:06:31.571494Z",
     "start_time": "2024-10-31T22:06:31.563601Z"
    }
   },
   "cell_type": "code",
   "source": "distribution",
   "id": "7a044bf3eb06720d",
   "outputs": [
    {
     "data": {
      "text/plain": [
       "array([0.00000000e+00, 0.00000000e+00, 0.00000000e+00, 0.00000000e+00,\n",
       "       0.00000000e+00, 0.00000000e+00, 0.00000000e+00, 0.00000000e+00,\n",
       "       0.00000000e+00, 0.00000000e+00, 0.00000000e+00, 0.00000000e+00,\n",
       "       0.00000000e+00, 0.00000000e+00, 0.00000000e+00, 0.00000000e+00,\n",
       "       0.00000000e+00, 0.00000000e+00, 0.00000000e+00, 0.00000000e+00,\n",
       "       0.00000000e+00, 0.00000000e+00, 0.00000000e+00, 0.00000000e+00,\n",
       "       0.00000000e+00, 3.81469727e-06, 3.05175781e-05, 1.02996826e-04,\n",
       "       2.13623047e-04, 4.38690186e-04, 8.08715820e-04, 1.33132935e-03,\n",
       "       2.02560425e-03, 2.86865234e-03, 4.00924683e-03, 5.61904907e-03,\n",
       "       7.52258301e-03, 9.86480713e-03, 1.27563477e-02, 1.63574219e-02,\n",
       "       2.04010010e-02, 2.51884460e-02, 3.06854248e-02, 3.69720459e-02,\n",
       "       4.36859131e-02, 5.08728027e-02, 5.84945679e-02, 6.64672852e-02,\n",
       "       7.41844177e-02, 8.21990967e-02, 9.01641846e-02, 9.79080200e-02,\n",
       "       1.05453491e-01, 1.12350464e-01, 1.18949890e-01, 1.25312805e-01,\n",
       "       1.31328583e-01, 1.36932373e-01, 1.41807556e-01, 1.46522522e-01,\n",
       "       1.51176453e-01, 1.55002594e-01, 1.58550262e-01, 1.62269592e-01,\n",
       "       1.65626526e-01, 1.69033051e-01, 1.72042847e-01, 1.75086975e-01,\n",
       "       1.78020477e-01, 1.81003571e-01, 1.84246063e-01, 1.87377930e-01,\n",
       "       1.90547943e-01, 1.93542480e-01, 1.96910858e-01, 2.00366974e-01,\n",
       "       2.03674316e-01, 2.06932068e-01, 2.10544586e-01, 2.14256287e-01,\n",
       "       2.17712402e-01, 2.21191406e-01, 2.24498749e-01, 2.28061676e-01,\n",
       "       2.31620789e-01, 2.35321045e-01, 2.39154816e-01, 2.43041992e-01,\n",
       "       2.47085571e-01, 2.51407623e-01, 2.55699158e-01, 2.60223389e-01,\n",
       "       2.64873505e-01, 2.69924164e-01, 2.75264740e-01, 2.81131744e-01,\n",
       "       2.87307739e-01, 2.94200897e-01, 3.01338196e-01, 3.09291840e-01,\n",
       "       3.16520691e-01, 3.23902130e-01, 3.31371307e-01, 3.38356018e-01,\n",
       "       3.45073700e-01, 3.51669312e-01, 3.57826233e-01, 3.63563538e-01,\n",
       "       3.69045258e-01, 3.74244690e-01, 3.79440308e-01, 3.84578705e-01,\n",
       "       3.89709473e-01, 3.95233154e-01, 4.00428772e-01, 4.05586243e-01,\n",
       "       4.10881042e-01, 4.16412354e-01, 4.22367096e-01, 4.28375244e-01,\n",
       "       4.34494019e-01, 4.41287994e-01, 4.48204041e-01, 4.55425262e-01,\n",
       "       4.63195801e-01, 4.71347809e-01, 4.80136871e-01, 4.88983154e-01,\n",
       "       4.98035431e-01, 5.07644653e-01, 5.16437531e-01, 5.25218964e-01,\n",
       "       5.33809662e-01, 5.41728973e-01, 5.49339294e-01, 5.56274414e-01,\n",
       "       5.63655853e-01, 5.70915222e-01, 5.78639984e-01, 5.86803436e-01,\n",
       "       5.95417023e-01, 6.04209900e-01, 6.13075256e-01, 6.22440338e-01,\n",
       "       6.31816864e-01, 6.41006470e-01, 6.49528503e-01, 6.58359528e-01,\n",
       "       6.67087555e-01, 6.75411224e-01, 6.84089661e-01, 6.92920685e-01,\n",
       "       7.02041626e-01, 7.11952209e-01, 7.22194672e-01, 7.32654572e-01,\n",
       "       7.42958069e-01, 7.52708435e-01, 7.61901855e-01, 7.70526886e-01,\n",
       "       7.78312683e-01, 7.85381317e-01, 7.92175293e-01, 7.98328400e-01,\n",
       "       8.03947449e-01, 8.09383392e-01, 8.14544678e-01, 8.19248199e-01,\n",
       "       8.24031830e-01, 8.28590393e-01, 8.33057404e-01, 8.37665558e-01,\n",
       "       8.42792511e-01, 8.47618103e-01, 8.52310181e-01, 8.56727600e-01,\n",
       "       8.61248016e-01, 8.65928650e-01, 8.70071411e-01, 8.73664856e-01,\n",
       "       8.77113342e-01, 8.80249023e-01, 8.83239746e-01, 8.85868073e-01,\n",
       "       8.88195038e-01, 8.90590668e-01, 8.93047333e-01, 8.95637512e-01,\n",
       "       8.98059845e-01, 9.00585175e-01, 9.03404236e-01, 9.06444550e-01,\n",
       "       9.09603119e-01, 9.13192749e-01, 9.16645050e-01, 9.20375824e-01,\n",
       "       9.23881531e-01, 9.27352905e-01, 9.30568695e-01, 9.33712006e-01,\n",
       "       9.37019348e-01, 9.40460205e-01, 9.43641663e-01, 9.47021484e-01,\n",
       "       9.50489044e-01, 9.54189301e-01, 9.57912445e-01, 9.61975098e-01,\n",
       "       9.65953827e-01, 9.70027924e-01, 9.73674774e-01, 9.77420807e-01,\n",
       "       9.81063843e-01, 9.84359741e-01, 9.87018585e-01, 9.89093781e-01,\n",
       "       9.90966797e-01, 9.92465973e-01, 9.93919373e-01, 9.95002747e-01,\n",
       "       9.95880127e-01, 9.96772766e-01, 9.97516632e-01, 9.98233795e-01,\n",
       "       9.98710632e-01, 9.99004364e-01, 9.99286652e-01, 9.99511719e-01,\n",
       "       9.99706268e-01, 9.99790192e-01, 9.99862671e-01, 9.99897003e-01,\n",
       "       9.99923706e-01, 9.99946594e-01, 9.99977112e-01, 9.99980927e-01,\n",
       "       9.99980927e-01, 9.99980927e-01, 9.99984741e-01, 9.99984741e-01,\n",
       "       9.99984741e-01, 9.99984741e-01, 9.99992371e-01, 9.99992371e-01,\n",
       "       9.99996185e-01, 1.00000000e+00, 1.00000000e+00, 1.00000000e+00,\n",
       "       1.00000000e+00, 1.00000000e+00, 1.00000000e+00, 1.00000000e+00,\n",
       "       1.00000000e+00, 1.00000000e+00, 1.00000000e+00])"
      ]
     },
     "execution_count": 278,
     "metadata": {},
     "output_type": "execute_result"
    }
   ],
   "execution_count": 278
  },
  {
   "metadata": {
    "ExecuteTime": {
     "end_time": "2024-10-31T22:06:31.577257Z",
     "start_time": "2024-10-31T22:06:31.573503Z"
    }
   },
   "cell_type": "code",
   "source": [
    "d_zero = None\n",
    "for i in range(len(distribution)):\n",
    "    if distribution[i]!=0:\n",
    "        d_zero = distribution[i]\n",
    "        break\n",
    "        "
   ],
   "id": "b2dd6423d47d2f89",
   "outputs": [],
   "execution_count": 279
  },
  {
   "metadata": {
    "ExecuteTime": {
     "end_time": "2024-10-31T22:06:31.584057Z",
     "start_time": "2024-10-31T22:06:31.578266Z"
    }
   },
   "cell_type": "code",
   "source": "d_zero",
   "id": "bb8dca2c306e5675",
   "outputs": [
    {
     "data": {
      "text/plain": [
       "np.float64(3.814697265625e-06)"
      ]
     },
     "execution_count": 280,
     "metadata": {},
     "output_type": "execute_result"
    }
   ],
   "execution_count": 280
  },
  {
   "metadata": {
    "ExecuteTime": {
     "end_time": "2024-10-31T22:06:31.589284Z",
     "start_time": "2024-10-31T22:06:31.585066Z"
    }
   },
   "cell_type": "code",
   "source": "lut_table_equalization = np.zeros(256)",
   "id": "53caf028fd85fda3",
   "outputs": [],
   "execution_count": 281
  },
  {
   "metadata": {
    "ExecuteTime": {
     "end_time": "2024-10-31T22:06:31.595020Z",
     "start_time": "2024-10-31T22:06:31.590295Z"
    }
   },
   "cell_type": "code",
   "source": [
    "for i in range(255):\n",
    "    if distribution[i] < d_zero:\n",
    "        lut_table_equalization[i] = 0\n",
    "    else:\n",
    "        lut_table_equalization[i] = int((distribution[i] - d_zero)/ (1-d_zero) * (len(hist_data) - 1))"
   ],
   "id": "d81250e9fda22803",
   "outputs": [],
   "execution_count": 282
  },
  {
   "metadata": {
    "ExecuteTime": {
     "end_time": "2024-10-31T22:06:31.603536Z",
     "start_time": "2024-10-31T22:06:31.596028Z"
    }
   },
   "cell_type": "code",
   "source": "lut_table_equalization",
   "id": "4c81ed2801bb9241",
   "outputs": [
    {
     "data": {
      "text/plain": [
       "array([  0.,   0.,   0.,   0.,   0.,   0.,   0.,   0.,   0.,   0.,   0.,\n",
       "         0.,   0.,   0.,   0.,   0.,   0.,   0.,   0.,   0.,   0.,   0.,\n",
       "         0.,   0.,   0.,   0.,   0.,   0.,   0.,   0.,   0.,   0.,   0.,\n",
       "         0.,   1.,   1.,   1.,   2.,   3.,   4.,   5.,   6.,   7.,   9.,\n",
       "        11.,  12.,  14.,  16.,  18.,  20.,  22.,  24.,  26.,  28.,  30.,\n",
       "        31.,  33.,  34.,  36.,  37.,  38.,  39.,  40.,  41.,  42.,  42.,\n",
       "        43.,  44.,  45.,  45.,  46.,  47.,  48.,  49.,  50.,  50.,  51.,\n",
       "        52.,  53.,  54.,  55.,  56.,  57.,  57.,  58.,  59.,  60.,  61.,\n",
       "        62.,  63.,  64.,  66.,  67.,  68.,  69.,  71.,  72.,  74.,  76.,\n",
       "        78.,  80.,  82.,  84.,  85.,  87.,  89.,  90.,  92.,  93.,  95.,\n",
       "        96.,  97.,  98., 100., 101., 103., 104., 105., 107., 108., 110.,\n",
       "       112., 113., 115., 117., 119., 121., 124., 126., 128., 131., 133.,\n",
       "       135., 137., 139., 141., 143., 145., 146., 149., 151., 153., 155.,\n",
       "       158., 160., 162., 164., 167., 169., 171., 173., 176., 178., 180.,\n",
       "       183., 186., 188., 191., 193., 195., 197., 199., 201., 202., 204.,\n",
       "       205., 206., 208., 209., 210., 211., 212., 214., 215., 216., 217.,\n",
       "       218., 219., 220., 221., 222., 223., 224., 225., 225., 226., 226.,\n",
       "       227., 228., 228., 229., 230., 231., 231., 232., 233., 234., 235.,\n",
       "       236., 237., 238., 238., 239., 240., 241., 242., 243., 244., 245.,\n",
       "       246., 247., 248., 249., 250., 250., 251., 251., 252., 252., 252.,\n",
       "       252., 253., 253., 253., 253., 253., 253., 253., 253., 253., 253.,\n",
       "       253., 253., 253., 253., 253., 253., 253., 253., 253., 253., 253.,\n",
       "       253., 253., 253., 254., 254., 254., 254., 254., 254., 254., 254.,\n",
       "       254., 254.,   0.])"
      ]
     },
     "execution_count": 283,
     "metadata": {},
     "output_type": "execute_result"
    }
   ],
   "execution_count": 283
  },
  {
   "metadata": {
    "ExecuteTime": {
     "end_time": "2024-10-31T22:06:31.609764Z",
     "start_time": "2024-10-31T22:06:31.604546Z"
    }
   },
   "cell_type": "code",
   "source": "equal_hist_data = lut_table_equalization[img_array]",
   "id": "e0c446db092813a4",
   "outputs": [],
   "execution_count": 284
  },
  {
   "metadata": {
    "ExecuteTime": {
     "end_time": "2024-10-31T22:06:31.616930Z",
     "start_time": "2024-10-31T22:06:31.611282Z"
    }
   },
   "cell_type": "code",
   "source": "equal_hist_data",
   "id": "6b1e49abcc843401",
   "outputs": [
    {
     "data": {
      "text/plain": [
       "array([[201., 201., 201., ..., 211., 186., 126.],\n",
       "       [201., 201., 201., ..., 211., 186., 126.],\n",
       "       [201., 201., 201., ..., 211., 186., 126.],\n",
       "       ...,\n",
       "       [  9.,   9.,  22., ...,  87.,  80.,  76.],\n",
       "       [ 11.,  11.,  31., ...,  87.,  89.,  93.],\n",
       "       [ 11.,  11.,  31., ...,  87.,  89.,  93.]])"
      ]
     },
     "execution_count": 285,
     "metadata": {},
     "output_type": "execute_result"
    }
   ],
   "execution_count": 285
  },
  {
   "metadata": {
    "ExecuteTime": {
     "end_time": "2024-10-31T22:06:31.935007Z",
     "start_time": "2024-10-31T22:06:31.618941Z"
    }
   },
   "cell_type": "code",
   "source": "plt.hist(equal_hist_data.flatten(), bins = 255, range= (0,255))",
   "id": "a09c4f4ddc00a86c",
   "outputs": [
    {
     "data": {
      "text/plain": [
       "(array([7.520e+02, 1.220e+03, 6.140e+02, 7.580e+02, 9.440e+02, 1.060e+03,\n",
       "        1.255e+03, 1.441e+03, 0.000e+00, 1.648e+03, 0.000e+00, 1.760e+03,\n",
       "        1.884e+03, 0.000e+00, 1.998e+03, 0.000e+00, 2.090e+03, 0.000e+00,\n",
       "        2.023e+03, 0.000e+00, 2.101e+03, 0.000e+00, 2.088e+03, 0.000e+00,\n",
       "        2.030e+03, 0.000e+00, 1.978e+03, 0.000e+00, 1.808e+03, 0.000e+00,\n",
       "        1.730e+03, 1.668e+03, 0.000e+00, 1.577e+03, 1.469e+03, 0.000e+00,\n",
       "        1.278e+03, 1.236e+03, 1.220e+03, 1.003e+03, 9.300e+02, 9.750e+02,\n",
       "        1.773e+03, 7.890e+02, 7.980e+02, 1.551e+03, 8.500e+02, 8.210e+02,\n",
       "        8.310e+02, 7.850e+02, 1.789e+03, 8.670e+02, 8.540e+02, 9.470e+02,\n",
       "        9.730e+02, 9.060e+02, 9.120e+02, 1.801e+03, 9.330e+02, 9.700e+02,\n",
       "        1.005e+03, 1.019e+03, 1.060e+03, 1.133e+03, 1.125e+03, 0.000e+00,\n",
       "        1.186e+03, 1.219e+03, 1.324e+03, 1.400e+03, 0.000e+00, 1.538e+03,\n",
       "        1.619e+03, 0.000e+00, 1.807e+03, 0.000e+00, 1.871e+03, 0.000e+00,\n",
       "        2.085e+03, 0.000e+00, 1.895e+03, 0.000e+00, 1.935e+03, 0.000e+00,\n",
       "        1.958e+03, 1.831e+03, 0.000e+00, 1.761e+03, 0.000e+00, 1.729e+03,\n",
       "        1.614e+03, 0.000e+00, 1.504e+03, 1.437e+03, 0.000e+00, 1.363e+03,\n",
       "        1.362e+03, 1.347e+03, 1.345e+03, 0.000e+00, 1.448e+03, 1.362e+03,\n",
       "        0.000e+00, 1.352e+03, 1.388e+03, 1.450e+03, 0.000e+00, 1.561e+03,\n",
       "        1.575e+03, 0.000e+00, 1.604e+03, 0.000e+00, 1.781e+03, 1.813e+03,\n",
       "        0.000e+00, 1.893e+03, 0.000e+00, 2.037e+03, 0.000e+00, 2.137e+03,\n",
       "        0.000e+00, 2.304e+03, 0.000e+00, 0.000e+00, 2.319e+03, 0.000e+00,\n",
       "        2.373e+03, 0.000e+00, 2.519e+03, 0.000e+00, 0.000e+00, 2.305e+03,\n",
       "        0.000e+00, 2.302e+03, 0.000e+00, 2.252e+03, 0.000e+00, 2.076e+03,\n",
       "        0.000e+00, 1.995e+03, 0.000e+00, 1.818e+03, 0.000e+00, 1.935e+03,\n",
       "        0.000e+00, 1.903e+03, 2.025e+03, 0.000e+00, 0.000e+00, 2.140e+03,\n",
       "        0.000e+00, 2.258e+03, 0.000e+00, 2.305e+03, 0.000e+00, 2.324e+03,\n",
       "        0.000e+00, 0.000e+00, 2.455e+03, 0.000e+00, 2.458e+03, 0.000e+00,\n",
       "        2.409e+03, 0.000e+00, 2.234e+03, 0.000e+00, 0.000e+00, 2.315e+03,\n",
       "        0.000e+00, 2.288e+03, 0.000e+00, 2.182e+03, 0.000e+00, 2.275e+03,\n",
       "        0.000e+00, 0.000e+00, 2.315e+03, 0.000e+00, 2.391e+03, 0.000e+00,\n",
       "        2.598e+03, 0.000e+00, 0.000e+00, 2.685e+03, 0.000e+00, 0.000e+00,\n",
       "        2.742e+03, 0.000e+00, 2.701e+03, 0.000e+00, 0.000e+00, 2.556e+03,\n",
       "        0.000e+00, 2.410e+03, 0.000e+00, 2.261e+03, 0.000e+00, 2.041e+03,\n",
       "        0.000e+00, 1.853e+03, 0.000e+00, 1.781e+03, 1.613e+03, 0.000e+00,\n",
       "        1.473e+03, 1.425e+03, 1.353e+03, 0.000e+00, 1.233e+03, 1.254e+03,\n",
       "        1.195e+03, 1.171e+03, 1.208e+03, 0.000e+00, 1.344e+03, 1.265e+03,\n",
       "        1.230e+03, 1.158e+03, 1.185e+03, 1.227e+03, 1.086e+03, 9.420e+02,\n",
       "        9.040e+02, 8.220e+02, 7.840e+02, 1.299e+03, 1.272e+03, 6.790e+02,\n",
       "        1.297e+03, 7.390e+02, 7.970e+02, 1.769e+03, 9.050e+02, 9.780e+02,\n",
       "        9.190e+02, 9.100e+02, 8.430e+02, 8.240e+02, 1.769e+03, 8.340e+02,\n",
       "        8.860e+02, 9.090e+02, 9.700e+02, 9.760e+02, 1.065e+03, 1.043e+03,\n",
       "        1.068e+03, 9.560e+02, 9.820e+02, 9.550e+02, 1.561e+03, 1.035e+03,\n",
       "        1.288e+03, 1.079e+03, 1.000e+00]),\n",
       " array([  0.,   1.,   2.,   3.,   4.,   5.,   6.,   7.,   8.,   9.,  10.,\n",
       "         11.,  12.,  13.,  14.,  15.,  16.,  17.,  18.,  19.,  20.,  21.,\n",
       "         22.,  23.,  24.,  25.,  26.,  27.,  28.,  29.,  30.,  31.,  32.,\n",
       "         33.,  34.,  35.,  36.,  37.,  38.,  39.,  40.,  41.,  42.,  43.,\n",
       "         44.,  45.,  46.,  47.,  48.,  49.,  50.,  51.,  52.,  53.,  54.,\n",
       "         55.,  56.,  57.,  58.,  59.,  60.,  61.,  62.,  63.,  64.,  65.,\n",
       "         66.,  67.,  68.,  69.,  70.,  71.,  72.,  73.,  74.,  75.,  76.,\n",
       "         77.,  78.,  79.,  80.,  81.,  82.,  83.,  84.,  85.,  86.,  87.,\n",
       "         88.,  89.,  90.,  91.,  92.,  93.,  94.,  95.,  96.,  97.,  98.,\n",
       "         99., 100., 101., 102., 103., 104., 105., 106., 107., 108., 109.,\n",
       "        110., 111., 112., 113., 114., 115., 116., 117., 118., 119., 120.,\n",
       "        121., 122., 123., 124., 125., 126., 127., 128., 129., 130., 131.,\n",
       "        132., 133., 134., 135., 136., 137., 138., 139., 140., 141., 142.,\n",
       "        143., 144., 145., 146., 147., 148., 149., 150., 151., 152., 153.,\n",
       "        154., 155., 156., 157., 158., 159., 160., 161., 162., 163., 164.,\n",
       "        165., 166., 167., 168., 169., 170., 171., 172., 173., 174., 175.,\n",
       "        176., 177., 178., 179., 180., 181., 182., 183., 184., 185., 186.,\n",
       "        187., 188., 189., 190., 191., 192., 193., 194., 195., 196., 197.,\n",
       "        198., 199., 200., 201., 202., 203., 204., 205., 206., 207., 208.,\n",
       "        209., 210., 211., 212., 213., 214., 215., 216., 217., 218., 219.,\n",
       "        220., 221., 222., 223., 224., 225., 226., 227., 228., 229., 230.,\n",
       "        231., 232., 233., 234., 235., 236., 237., 238., 239., 240., 241.,\n",
       "        242., 243., 244., 245., 246., 247., 248., 249., 250., 251., 252.,\n",
       "        253., 254., 255.]),\n",
       " <BarContainer object of 255 artists>)"
      ]
     },
     "execution_count": 286,
     "metadata": {},
     "output_type": "execute_result"
    },
    {
     "data": {
      "text/plain": [
       "<Figure size 640x480 with 1 Axes>"
      ],
      "image/png": "[encoded data removed]"
     },
     "metadata": {},
     "output_type": "display_data"
    }
   ],
   "execution_count": 286
  },
  {
   "metadata": {
    "ExecuteTime": {
     "end_time": "2024-10-31T22:06:31.967883Z",
     "start_time": "2024-10-31T22:06:31.936016Z"
    }
   },
   "cell_type": "code",
   "source": [
    "equal_image = Image.fromarray(equal_hist_data)\n",
    "equal_image.show()"
   ],
   "id": "938866a529284b49",
   "outputs": [],
   "execution_count": 287
  }
 ],
 "metadata": {
  "kernelspec": {
   "display_name": "Python 3",
   "language": "python",
   "name": "python3"
  },
  "language_info": {
   "codemirror_mode": {
    "name": "ipython",
    "version": 2
   },
   "file_extension": ".py",
   "mimetype": "text/x-python",
   "name": "python",
   "nbconvert_exporter": "python",
   "pygments_lexer": "ipython2",
   "version": "2.7.6"
  }
 },
 "nbformat": 4,
 "nbformat_minor": 5
}
