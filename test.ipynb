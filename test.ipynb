{
 "cells": [
  {
   "cell_type": "code",
   "id": "initial_id",
   "metadata": {
    "collapsed": true,
    "ExecuteTime": {
     "end_time": "2024-10-30T20:21:54.088767Z",
     "start_time": "2024-10-30T20:21:54.083039Z"
    }
   },
   "source": [
    "import numpy as np\n",
    "import pandas as pd\n",
    "import matplotlib.pyplot as plt\n",
    "from PIL import Image"
   ],
   "outputs": [],
   "execution_count": 170
  },
  {
   "metadata": {
    "ExecuteTime": {
     "end_time": "2024-10-30T20:21:54.141694Z",
     "start_time": "2024-10-30T20:21:54.135596Z"
    }
   },
   "cell_type": "code",
   "source": [
    "def load_image(img_path):\n",
    "    image = Image.open(img_path)\n",
    "    return image"
   ],
   "id": "57d5be8687b213e6",
   "outputs": [],
   "execution_count": 171
  },
  {
   "metadata": {
    "ExecuteTime": {
     "end_time": "2024-10-30T20:21:54.209693Z",
     "start_time": "2024-10-30T20:21:54.197625Z"
    }
   },
   "cell_type": "code",
   "source": [
    "image = load_image('High-Resolution.png')\n",
    "image = image.convert('L')"
   ],
   "id": "54a769cceff5c9f",
   "outputs": [],
   "execution_count": 172
  },
  {
   "metadata": {
    "ExecuteTime": {
     "end_time": "2024-10-30T20:21:54.230524Z",
     "start_time": "2024-10-30T20:21:54.224148Z"
    }
   },
   "cell_type": "code",
   "source": "img_array = np.array(image)",
   "id": "4acc17f6864cf897",
   "outputs": [],
   "execution_count": 173
  },
  {
   "metadata": {
    "ExecuteTime": {
     "end_time": "2024-10-30T20:21:54.252083Z",
     "start_time": "2024-10-30T20:21:54.238924Z"
    }
   },
   "cell_type": "code",
   "source": "img_array.shape",
   "id": "30c005559b7f3dfc",
   "outputs": [
    {
     "data": {
      "text/plain": [
       "(512, 512)"
      ]
     },
     "execution_count": 174,
     "metadata": {},
     "output_type": "execute_result"
    }
   ],
   "execution_count": 174
  },
  {
   "metadata": {
    "ExecuteTime": {
     "end_time": "2024-10-30T20:21:54.326277Z",
     "start_time": "2024-10-30T20:21:54.316782Z"
    }
   },
   "cell_type": "code",
   "source": "gray_hist_data = img_array.flatten()",
   "id": "7f1387c452d7b9fc",
   "outputs": [],
   "execution_count": 175
  },
  {
   "metadata": {
    "ExecuteTime": {
     "end_time": "2024-10-30T20:21:55.091553Z",
     "start_time": "2024-10-30T20:21:54.593639Z"
    }
   },
   "cell_type": "code",
   "source": "plt.hist(gray_hist_data, bins = 255)",
   "id": "f75a0ea61a8d970f",
   "outputs": [
    {
     "data": {
      "text/plain": [
       "(array([2412.,    0.,    0.,    0.,    0.,    0.,    0.,    0.,    0.,\n",
       "        3959.,    0.,    0.,    0.,    0.,    0., 1914.,    0., 3377.,\n",
       "           0.,    0.,    0.,    0., 1051.,    0.,    0., 6051.,    0.,\n",
       "         751.,    0.,    0.,    0., 1172.,    0., 1278.,    0.,    0.,\n",
       "        4018.,    0., 3234.,    0., 1852.,    0.,    0., 2575., 1400.,\n",
       "           0.,    0.,    0., 2004., 4050.,    0., 1964.,    0., 6254.,\n",
       "           0.,    0., 2513.,    0.,    0., 2472., 2051.,    0., 2612.,\n",
       "        4921., 1044.,    0., 1806.,  786., 1391., 3434., 2409.,    0.,\n",
       "        2179.,    0.,    0., 6542., 1955.,  841.,    0.,    0., 1067.,\n",
       "         843., 4762., 1321.,    0.,  721., 4066., 3914.,    0.,    0.,\n",
       "        2750.,    0., 1672.,  965., 3228., 4105.,    0., 2725.,    0.,\n",
       "        2453.,    0., 2089., 1100., 2012.,    0., 1089., 2570., 1419.,\n",
       "        1154., 4425.,    0.,    0., 1921., 1581., 2325.,  713.,    0.,\n",
       "           0.,    0., 6404.,    0., 2319., 1885.,    0.,    0., 2064.,\n",
       "         677., 1501., 2462.,    0.,    0., 4933.,    0., 2110., 1179.,\n",
       "         950.,  820.,    0.,    0., 1111.,    0., 3178., 2743.,    0.,\n",
       "        1168.,    0.,  622., 1728.,  737.,  956.,    0.,  807., 1578.,\n",
       "         668., 1482., 2760.,    0.,  847.,  345.,    0.,  458., 1887.,\n",
       "           0.,    0.,    0., 1271., 1395.,  791.,    0.,    0., 2718.,\n",
       "        1161.,  833.,    0., 1074.,    0.,    0.,  695., 2195., 1040.,\n",
       "         983.,  817.,    0.,    0.,    0.,    0.,  421., 1925., 1004.,\n",
       "           0.,  670., 1786.,  639.,  734., 1438.,  612.,    0.,    0.,\n",
       "        2089.,  485.,    0., 1361.,    0., 2032.,  620.,    0.,    0.,\n",
       "         660., 1950.,    0.,  617.,    0., 1211., 2733.,    0.,    0.,\n",
       "           0., 1963., 1417.,  641.,  421., 2398.,    0.,    0.,    0.,\n",
       "        1812., 1456., 1314.,    0.,    0.,  790.,  942.,  830., 1379.,\n",
       "         987.,    0.,    0., 1369.,  593., 3008.,    0.,    0.,    0.,\n",
       "         712., 1879.,  705., 2137.,    0.,    0.,    0.,    0., 2235.,\n",
       "           0.,  965.,  590.]),\n",
       " array([ 24.        ,  24.84705882,  25.69411765,  26.54117647,\n",
       "         27.38823529,  28.23529412,  29.08235294,  29.92941176,\n",
       "         30.77647059,  31.62352941,  32.47058824,  33.31764706,\n",
       "         34.16470588,  35.01176471,  35.85882353,  36.70588235,\n",
       "         37.55294118,  38.4       ,  39.24705882,  40.09411765,\n",
       "         40.94117647,  41.78823529,  42.63529412,  43.48235294,\n",
       "         44.32941176,  45.17647059,  46.02352941,  46.87058824,\n",
       "         47.71764706,  48.56470588,  49.41176471,  50.25882353,\n",
       "         51.10588235,  51.95294118,  52.8       ,  53.64705882,\n",
       "         54.49411765,  55.34117647,  56.18823529,  57.03529412,\n",
       "         57.88235294,  58.72941176,  59.57647059,  60.42352941,\n",
       "         61.27058824,  62.11764706,  62.96470588,  63.81176471,\n",
       "         64.65882353,  65.50588235,  66.35294118,  67.2       ,\n",
       "         68.04705882,  68.89411765,  69.74117647,  70.58823529,\n",
       "         71.43529412,  72.28235294,  73.12941176,  73.97647059,\n",
       "         74.82352941,  75.67058824,  76.51764706,  77.36470588,\n",
       "         78.21176471,  79.05882353,  79.90588235,  80.75294118,\n",
       "         81.6       ,  82.44705882,  83.29411765,  84.14117647,\n",
       "         84.98823529,  85.83529412,  86.68235294,  87.52941176,\n",
       "         88.37647059,  89.22352941,  90.07058824,  90.91764706,\n",
       "         91.76470588,  92.61176471,  93.45882353,  94.30588235,\n",
       "         95.15294118,  96.        ,  96.84705882,  97.69411765,\n",
       "         98.54117647,  99.38823529, 100.23529412, 101.08235294,\n",
       "        101.92941176, 102.77647059, 103.62352941, 104.47058824,\n",
       "        105.31764706, 106.16470588, 107.01176471, 107.85882353,\n",
       "        108.70588235, 109.55294118, 110.4       , 111.24705882,\n",
       "        112.09411765, 112.94117647, 113.78823529, 114.63529412,\n",
       "        115.48235294, 116.32941176, 117.17647059, 118.02352941,\n",
       "        118.87058824, 119.71764706, 120.56470588, 121.41176471,\n",
       "        122.25882353, 123.10588235, 123.95294118, 124.8       ,\n",
       "        125.64705882, 126.49411765, 127.34117647, 128.18823529,\n",
       "        129.03529412, 129.88235294, 130.72941176, 131.57647059,\n",
       "        132.42352941, 133.27058824, 134.11764706, 134.96470588,\n",
       "        135.81176471, 136.65882353, 137.50588235, 138.35294118,\n",
       "        139.2       , 140.04705882, 140.89411765, 141.74117647,\n",
       "        142.58823529, 143.43529412, 144.28235294, 145.12941176,\n",
       "        145.97647059, 146.82352941, 147.67058824, 148.51764706,\n",
       "        149.36470588, 150.21176471, 151.05882353, 151.90588235,\n",
       "        152.75294118, 153.6       , 154.44705882, 155.29411765,\n",
       "        156.14117647, 156.98823529, 157.83529412, 158.68235294,\n",
       "        159.52941176, 160.37647059, 161.22352941, 162.07058824,\n",
       "        162.91764706, 163.76470588, 164.61176471, 165.45882353,\n",
       "        166.30588235, 167.15294118, 168.        , 168.84705882,\n",
       "        169.69411765, 170.54117647, 171.38823529, 172.23529412,\n",
       "        173.08235294, 173.92941176, 174.77647059, 175.62352941,\n",
       "        176.47058824, 177.31764706, 178.16470588, 179.01176471,\n",
       "        179.85882353, 180.70588235, 181.55294118, 182.4       ,\n",
       "        183.24705882, 184.09411765, 184.94117647, 185.78823529,\n",
       "        186.63529412, 187.48235294, 188.32941176, 189.17647059,\n",
       "        190.02352941, 190.87058824, 191.71764706, 192.56470588,\n",
       "        193.41176471, 194.25882353, 195.10588235, 195.95294118,\n",
       "        196.8       , 197.64705882, 198.49411765, 199.34117647,\n",
       "        200.18823529, 201.03529412, 201.88235294, 202.72941176,\n",
       "        203.57647059, 204.42352941, 205.27058824, 206.11764706,\n",
       "        206.96470588, 207.81176471, 208.65882353, 209.50588235,\n",
       "        210.35294118, 211.2       , 212.04705882, 212.89411765,\n",
       "        213.74117647, 214.58823529, 215.43529412, 216.28235294,\n",
       "        217.12941176, 217.97647059, 218.82352941, 219.67058824,\n",
       "        220.51764706, 221.36470588, 222.21176471, 223.05882353,\n",
       "        223.90588235, 224.75294118, 225.6       , 226.44705882,\n",
       "        227.29411765, 228.14117647, 228.98823529, 229.83529412,\n",
       "        230.68235294, 231.52941176, 232.37647059, 233.22352941,\n",
       "        234.07058824, 234.91764706, 235.76470588, 236.61176471,\n",
       "        237.45882353, 238.30588235, 239.15294118, 240.        ]),\n",
       " <BarContainer object of 255 artists>)"
      ]
     },
     "execution_count": 176,
     "metadata": {},
     "output_type": "execute_result"
    },
    {
     "data": {
      "text/plain": [
       "<Figure size 640x480 with 1 Axes>"
      ],
      "image/png": "[encoded data removed]"
     },
     "metadata": {},
     "output_type": "display_data"
    }
   ],
   "execution_count": 176
  },
  {
   "metadata": {
    "ExecuteTime": {
     "end_time": "2024-10-30T20:21:55.117471Z",
     "start_time": "2024-10-30T20:21:55.095205Z"
    }
   },
   "cell_type": "code",
   "source": "print(max(gray_hist_data))",
   "id": "efa3d841dc96c293",
   "outputs": [
    {
     "name": "stdout",
     "output_type": "stream",
     "text": [
      "240\n"
     ]
    }
   ],
   "execution_count": 177
  },
  {
   "metadata": {
    "ExecuteTime": {
     "end_time": "2024-10-30T20:21:55.178160Z",
     "start_time": "2024-10-30T20:21:55.117471Z"
    }
   },
   "cell_type": "code",
   "source": "print(min(gray_hist_data))",
   "id": "b2a5b0b0a0cedbc3",
   "outputs": [
    {
     "name": "stdout",
     "output_type": "stream",
     "text": [
      "24\n"
     ]
    }
   ],
   "execution_count": 178
  },
  {
   "metadata": {
    "ExecuteTime": {
     "end_time": "2024-10-30T20:21:55.188913Z",
     "start_time": "2024-10-30T20:21:55.178722Z"
    }
   },
   "cell_type": "code",
   "source": "len(gray_hist_data)",
   "id": "bf4f19e6997f30aa",
   "outputs": [
    {
     "data": {
      "text/plain": [
       "262144"
      ]
     },
     "execution_count": 179,
     "metadata": {},
     "output_type": "execute_result"
    }
   ],
   "execution_count": 179
  },
  {
   "metadata": {},
   "cell_type": "markdown",
   "source": "# Rozciąganie histogramu",
   "id": "ac3096fcc8ea6e17"
  },
  {
   "metadata": {
    "ExecuteTime": {
     "end_time": "2024-10-30T20:21:55.244141Z",
     "start_time": "2024-10-30T20:21:55.188913Z"
    }
   },
   "cell_type": "code",
   "source": [
    "lut_table = np.zeros(256)\n",
    "max_value = max(gray_hist_data)\n",
    "min_value = min(gray_hist_data)\n",
    "for i in range(0, len(lut_table)):\n",
    "    if i >= max_value:\n",
    "        lut_table[i] = 255\n",
    "        \n",
    "    elif i <= min_value:\n",
    "        lut_table[i] = 0\n",
    "        \n",
    "    else:\n",
    "        lut_table[i] = int((i - min_value)/(max_value - min_value) * 255)\n",
    "            \n",
    "    "
   ],
   "id": "e1d5d0a12c909032",
   "outputs": [],
   "execution_count": 180
  },
  {
   "metadata": {
    "ExecuteTime": {
     "end_time": "2024-10-30T20:21:55.259991Z",
     "start_time": "2024-10-30T20:21:55.244141Z"
    }
   },
   "cell_type": "code",
   "source": "lut_table[img_array]",
   "id": "128833d4430f7b71",
   "outputs": [
    {
     "data": {
      "text/plain": [
       "array([[108.,  97., 108., ..., 108.,  82.,  76.],\n",
       "       [108., 108., 108., ...,  87.,  82.,  82.],\n",
       "       [127., 127., 108., ..., 109., 109.,  94.],\n",
       "       ...,\n",
       "       [  0.,   0.,  25., ...,  51.,  51.,  38.],\n",
       "       [  0.,   9.,   9., ...,  51.,  38.,  38.],\n",
       "       [  0.,   9.,   9., ...,  38.,  38.,  36.]])"
      ]
     },
     "execution_count": 181,
     "metadata": {},
     "output_type": "execute_result"
    }
   ],
   "execution_count": 181
  },
  {
   "metadata": {
    "ExecuteTime": {
     "end_time": "2024-10-30T20:21:55.273644Z",
     "start_time": "2024-10-30T20:21:55.259991Z"
    }
   },
   "cell_type": "code",
   "source": "lut_table[img_array]",
   "id": "97dd4d439951aa56",
   "outputs": [
    {
     "data": {
      "text/plain": [
       "array([[108.,  97., 108., ..., 108.,  82.,  76.],\n",
       "       [108., 108., 108., ...,  87.,  82.,  82.],\n",
       "       [127., 127., 108., ..., 109., 109.,  94.],\n",
       "       ...,\n",
       "       [  0.,   0.,  25., ...,  51.,  51.,  38.],\n",
       "       [  0.,   9.,   9., ...,  51.,  38.,  38.],\n",
       "       [  0.,   9.,   9., ...,  38.,  38.,  36.]])"
      ]
     },
     "execution_count": 182,
     "metadata": {},
     "output_type": "execute_result"
    }
   ],
   "execution_count": 182
  },
  {
   "metadata": {
    "ExecuteTime": {
     "end_time": "2024-10-30T20:21:55.285390Z",
     "start_time": "2024-10-30T20:21:55.275673Z"
    }
   },
   "cell_type": "code",
   "source": "img_array.shape",
   "id": "52928bf4656bd7f2",
   "outputs": [
    {
     "data": {
      "text/plain": [
       "(512, 512)"
      ]
     },
     "execution_count": 183,
     "metadata": {},
     "output_type": "execute_result"
    }
   ],
   "execution_count": 183
  }
 ],
 "metadata": {
  "kernelspec": {
   "display_name": "Python 3",
   "language": "python",
   "name": "python3"
  },
  "language_info": {
   "codemirror_mode": {
    "name": "ipython",
    "version": 2
   },
   "file_extension": ".py",
   "mimetype": "text/x-python",
   "name": "python",
   "nbconvert_exporter": "python",
   "pygments_lexer": "ipython2",
   "version": "2.7.6"
  }
 },
 "nbformat": 4,
 "nbformat_minor": 5
}
